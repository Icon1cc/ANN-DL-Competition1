{
  "cells": [
    {
      "cell_type": "markdown",
      "id": "bc9a1390",
      "metadata": {
        "id": "bc9a1390"
      },
      "source": [
        "### Imports"
      ]
    },
    {
      "cell_type": "code",
      "source": [
        "from google.colab import drive\n",
        "from tensorflow.keras.applications import DenseNet121\n",
        "from tensorflow.keras.layers import Input, Dense, Dropout, BatchNormalization\n",
        "from tensorflow.keras.models import Model\n",
        "from tensorflow.keras.preprocessing.image import ImageDataGenerator\n",
        "from tensorflow.keras.callbacks import EarlyStopping, ModelCheckpoint, ReduceLROnPlateau\n",
        "import os\n",
        "import numpy as np\n",
        "import random\n",
        "import tensorflow as tf\n",
        "from PIL import Image\n",
        "from sklearn.model_selection import train_test_split"
      ],
      "metadata": {
        "id": "lJHEBYWSO4s3"
      },
      "id": "lJHEBYWSO4s3",
      "execution_count": 2,
      "outputs": []
    },
    {
      "cell_type": "code",
      "source": [
        "# Mount Google Drive\n",
        "drive.mount('/content/drive')"
      ],
      "metadata": {
        "colab": {
          "base_uri": "https://localhost:8080/"
        },
        "id": "s3lxOcm-2Xr0",
        "outputId": "ed5c0f33-2aba-4f83-e9d7-a9fd02aeadb9"
      },
      "id": "s3lxOcm-2Xr0",
      "execution_count": 3,
      "outputs": [
        {
          "output_type": "stream",
          "name": "stdout",
          "text": [
            "Mounted at /content/drive\n"
          ]
        }
      ]
    },
    {
      "cell_type": "code",
      "source": [
        "# Set random seeds for reproducibility\n",
        "seed = 42\n",
        "os.environ['PYTHONHASHSEED'] = str(seed)\n",
        "random.seed(seed)\n",
        "np.random.seed(seed)\n",
        "tf.random.set_seed(seed)"
      ],
      "metadata": {
        "id": "s8o8yykk2YeY"
      },
      "id": "s8o8yykk2YeY",
      "execution_count": 4,
      "outputs": []
    },
    {
      "cell_type": "code",
      "source": [
        "# Define the base path to your folders\n",
        "base_path = '/content/drive/My Drive/ANNDL/'\n",
        "\n",
        "# Define the full paths to the folders\n",
        "healthy_path = os.path.join(base_path, 'public_healthy')\n",
        "unhealthy_path = os.path.join(base_path, 'public_unhealthy')"
      ],
      "metadata": {
        "id": "A7nS3hCj2a33"
      },
      "id": "A7nS3hCj2a33",
      "execution_count": 5,
      "outputs": []
    },
    {
      "cell_type": "code",
      "source": [
        "# Function to load images and convert them to numpy arrays\n",
        "def load_images_from_folder(folder_path):\n",
        "    images = []\n",
        "    for filename in os.listdir(folder_path):\n",
        "        img_path = os.path.join(folder_path, filename)\n",
        "        try:\n",
        "            with Image.open(img_path) as img:\n",
        "                images.append(np.array(img))\n",
        "        except IOError:\n",
        "            print(f\"Cannot open {filename}\")\n",
        "    return np.array(images)"
      ],
      "metadata": {
        "id": "cex9vmrg2eb0"
      },
      "id": "cex9vmrg2eb0",
      "execution_count": 6,
      "outputs": []
    },
    {
      "cell_type": "code",
      "source": [
        "# Load all images from both folders into numpy arrays\n",
        "plants_healthy = load_images_from_folder(healthy_path)\n",
        "plants_unhealthy = load_images_from_folder(unhealthy_path)"
      ],
      "metadata": {
        "id": "rE8AJYPO2gji"
      },
      "id": "rE8AJYPO2gji",
      "execution_count": 7,
      "outputs": []
    },
    {
      "cell_type": "code",
      "source": [
        "# Merge plant datasets\n",
        "X = np.concatenate([plants_healthy, plants_unhealthy], axis=0)\n",
        "\n",
        "# Create labels: 0 for 'healthy', 1 for 'unhealthy'\n",
        "y = np.concatenate([np.zeros(len(plants_healthy)), np.ones(len(plants_unhealthy))], axis=0)\n",
        "\n",
        "# One-hot encode labels\n",
        "y = tf.keras.utils.to_categorical(y, num_classes=2)\n",
        "\n",
        "# Split into train and validation sets\n",
        "val_size = 0.2\n",
        "X_train, X_val, y_train, y_val = train_test_split(X, y, test_size=val_size, stratify=np.argmax(y, axis=1), random_state=seed)\n"
      ],
      "metadata": {
        "id": "wgtZjjcM2jHe"
      },
      "id": "wgtZjjcM2jHe",
      "execution_count": 8,
      "outputs": []
    },
    {
      "cell_type": "code",
      "source": [
        "# Data Augmentation\n",
        "datagen = ImageDataGenerator(\n",
        "    rotation_range=20,\n",
        "    width_shift_range=0.2,\n",
        "    height_shift_range=0.2,\n",
        "    shear_range=0.2,\n",
        "    zoom_range=0.2,\n",
        "    horizontal_flip=True,\n",
        "    fill_mode='nearest'\n",
        ")\n",
        "datagen.fit(X_train)"
      ],
      "metadata": {
        "id": "1dOttN-u2nME"
      },
      "id": "1dOttN-u2nME",
      "execution_count": 9,
      "outputs": []
    },
    {
      "cell_type": "code",
      "source": [
        "# DenseNet Model Setup\n",
        "densenet = DenseNet121(include_top=False, weights='imagenet', input_shape=X_train.shape[1:], pooling='avg')\n",
        "densenet.trainable = False  # Freeze DenseNet layers initially\n",
        "\n",
        "inputs = Input(shape=X_train.shape[1:])\n",
        "x = densenet(inputs)\n",
        "x = BatchNormalization()(x)  # Add Batch Normalization\n",
        "x = Dropout(0.5)(x)  # Add Dropout\n",
        "outputs = Dense(2, activation='softmax')(x)\n",
        "model = Model(inputs, outputs)\n"
      ],
      "metadata": {
        "colab": {
          "base_uri": "https://localhost:8080/"
        },
        "id": "3csIeogI6MyB",
        "outputId": "f3aaf742-13f4-4bc4-9d39-e054f0c8dc36"
      },
      "id": "3csIeogI6MyB",
      "execution_count": 10,
      "outputs": [
        {
          "output_type": "stream",
          "name": "stdout",
          "text": [
            "Downloading data from https://storage.googleapis.com/tensorflow/keras-applications/densenet/densenet121_weights_tf_dim_ordering_tf_kernels_notop.h5\n",
            "29084464/29084464 [==============================] - 0s 0us/step\n"
          ]
        }
      ]
    },
    {
      "cell_type": "code",
      "source": [
        "# Compile the model\n",
        "model.compile(loss='categorical_crossentropy', optimizer='adam', metrics=['accuracy'])\n"
      ],
      "metadata": {
        "id": "4J88Wzwa2r0V"
      },
      "id": "4J88Wzwa2r0V",
      "execution_count": 11,
      "outputs": []
    },
    {
      "cell_type": "code",
      "source": [
        "# Callbacks\n",
        "early_stopping = EarlyStopping(monitor='val_loss', patience=20, restore_best_weights=True)\n",
        "model_checkpoint = ModelCheckpoint('SubmissionModel', save_best_only=True)\n",
        "reduce_lr = ReduceLROnPlateau(factor=0.2, patience=5)\n"
      ],
      "metadata": {
        "id": "irlLROT92t11"
      },
      "id": "irlLROT92t11",
      "execution_count": 12,
      "outputs": []
    },
    {
      "cell_type": "code",
      "source": [
        "# Initial Training\n",
        "history = model.fit(\n",
        "    datagen.flow(X_train, y_train, batch_size=32, seed=seed),\n",
        "    epochs=1000,  # Set a suitable number of epochs\n",
        "    validation_data=(X_val, y_val),\n",
        "    callbacks=[early_stopping, model_checkpoint, reduce_lr]\n",
        ")"
      ],
      "metadata": {
        "colab": {
          "base_uri": "https://localhost:8080/"
        },
        "id": "bBHLghhx204P",
        "outputId": "2d8376aa-8b94-4aa3-ee36-d5bfba2d891b"
      },
      "id": "bBHLghhx204P",
      "execution_count": 13,
      "outputs": [
        {
          "output_type": "stream",
          "name": "stdout",
          "text": [
            "Epoch 1/1000\n",
            "125/125 [==============================] - 75s 472ms/step - loss: 0.8169 - accuracy: 0.6050 - val_loss: 0.6787 - val_accuracy: 0.6360 - lr: 0.0010\n",
            "Epoch 2/1000\n",
            "125/125 [==============================] - 53s 429ms/step - loss: 0.6701 - accuracy: 0.6478 - val_loss: 0.6020 - val_accuracy: 0.6760 - lr: 0.0010\n",
            "Epoch 3/1000\n",
            "125/125 [==============================] - 56s 453ms/step - loss: 0.6465 - accuracy: 0.6645 - val_loss: 0.5861 - val_accuracy: 0.6870 - lr: 0.0010\n",
            "Epoch 4/1000\n",
            "125/125 [==============================] - 14s 115ms/step - loss: 0.6244 - accuracy: 0.6768 - val_loss: 0.5870 - val_accuracy: 0.6740 - lr: 0.0010\n",
            "Epoch 5/1000\n",
            "125/125 [==============================] - 54s 437ms/step - loss: 0.6024 - accuracy: 0.6900 - val_loss: 0.5511 - val_accuracy: 0.7190 - lr: 0.0010\n",
            "Epoch 6/1000\n",
            "125/125 [==============================] - 15s 118ms/step - loss: 0.5983 - accuracy: 0.6855 - val_loss: 0.5546 - val_accuracy: 0.7210 - lr: 0.0010\n",
            "Epoch 7/1000\n",
            "125/125 [==============================] - 14s 110ms/step - loss: 0.5944 - accuracy: 0.6985 - val_loss: 0.5598 - val_accuracy: 0.7090 - lr: 0.0010\n",
            "Epoch 8/1000\n",
            "125/125 [==============================] - 52s 417ms/step - loss: 0.5908 - accuracy: 0.6933 - val_loss: 0.5508 - val_accuracy: 0.7160 - lr: 0.0010\n",
            "Epoch 9/1000\n",
            "125/125 [==============================] - 55s 440ms/step - loss: 0.6039 - accuracy: 0.6805 - val_loss: 0.5477 - val_accuracy: 0.7180 - lr: 0.0010\n",
            "Epoch 10/1000\n",
            "125/125 [==============================] - 15s 120ms/step - loss: 0.5867 - accuracy: 0.6898 - val_loss: 0.5625 - val_accuracy: 0.7200 - lr: 0.0010\n",
            "Epoch 11/1000\n",
            "125/125 [==============================] - 54s 438ms/step - loss: 0.5914 - accuracy: 0.6855 - val_loss: 0.5387 - val_accuracy: 0.7200 - lr: 0.0010\n",
            "Epoch 12/1000\n",
            "125/125 [==============================] - 15s 118ms/step - loss: 0.5864 - accuracy: 0.6933 - val_loss: 0.5510 - val_accuracy: 0.7110 - lr: 0.0010\n",
            "Epoch 13/1000\n",
            "125/125 [==============================] - 15s 119ms/step - loss: 0.5964 - accuracy: 0.6858 - val_loss: 0.5515 - val_accuracy: 0.7070 - lr: 0.0010\n",
            "Epoch 14/1000\n",
            "125/125 [==============================] - 17s 135ms/step - loss: 0.6000 - accuracy: 0.6867 - val_loss: 0.5661 - val_accuracy: 0.7190 - lr: 0.0010\n",
            "Epoch 15/1000\n",
            "125/125 [==============================] - 14s 114ms/step - loss: 0.6044 - accuracy: 0.6805 - val_loss: 0.5569 - val_accuracy: 0.7310 - lr: 0.0010\n",
            "Epoch 16/1000\n",
            "125/125 [==============================] - 14s 112ms/step - loss: 0.6025 - accuracy: 0.6862 - val_loss: 0.5417 - val_accuracy: 0.7250 - lr: 0.0010\n",
            "Epoch 17/1000\n",
            "125/125 [==============================] - 15s 117ms/step - loss: 0.5815 - accuracy: 0.6992 - val_loss: 0.5452 - val_accuracy: 0.7280 - lr: 2.0000e-04\n",
            "Epoch 18/1000\n",
            "125/125 [==============================] - 15s 123ms/step - loss: 0.5832 - accuracy: 0.6965 - val_loss: 0.5430 - val_accuracy: 0.7220 - lr: 2.0000e-04\n",
            "Epoch 19/1000\n",
            "125/125 [==============================] - 53s 424ms/step - loss: 0.5783 - accuracy: 0.7035 - val_loss: 0.5348 - val_accuracy: 0.7270 - lr: 2.0000e-04\n",
            "Epoch 20/1000\n",
            "125/125 [==============================] - 13s 106ms/step - loss: 0.5691 - accuracy: 0.7072 - val_loss: 0.5410 - val_accuracy: 0.7190 - lr: 2.0000e-04\n",
            "Epoch 21/1000\n",
            "125/125 [==============================] - 14s 115ms/step - loss: 0.5748 - accuracy: 0.6963 - val_loss: 0.5365 - val_accuracy: 0.7240 - lr: 2.0000e-04\n",
            "Epoch 22/1000\n",
            "125/125 [==============================] - 51s 414ms/step - loss: 0.5629 - accuracy: 0.7117 - val_loss: 0.5345 - val_accuracy: 0.7220 - lr: 2.0000e-04\n",
            "Epoch 23/1000\n",
            "125/125 [==============================] - 53s 423ms/step - loss: 0.5777 - accuracy: 0.6933 - val_loss: 0.5323 - val_accuracy: 0.7310 - lr: 2.0000e-04\n",
            "Epoch 24/1000\n",
            "125/125 [==============================] - 15s 121ms/step - loss: 0.5572 - accuracy: 0.7165 - val_loss: 0.5401 - val_accuracy: 0.7240 - lr: 2.0000e-04\n",
            "Epoch 25/1000\n",
            "125/125 [==============================] - 15s 116ms/step - loss: 0.5653 - accuracy: 0.7067 - val_loss: 0.5378 - val_accuracy: 0.7230 - lr: 2.0000e-04\n",
            "Epoch 26/1000\n",
            "125/125 [==============================] - 15s 121ms/step - loss: 0.5647 - accuracy: 0.7005 - val_loss: 0.5379 - val_accuracy: 0.7180 - lr: 2.0000e-04\n",
            "Epoch 27/1000\n",
            "125/125 [==============================] - 15s 123ms/step - loss: 0.5655 - accuracy: 0.7107 - val_loss: 0.5417 - val_accuracy: 0.7160 - lr: 2.0000e-04\n",
            "Epoch 28/1000\n",
            "125/125 [==============================] - 17s 139ms/step - loss: 0.5697 - accuracy: 0.7105 - val_loss: 0.5428 - val_accuracy: 0.7210 - lr: 2.0000e-04\n",
            "Epoch 29/1000\n",
            "125/125 [==============================] - 15s 117ms/step - loss: 0.5682 - accuracy: 0.7113 - val_loss: 0.5404 - val_accuracy: 0.7240 - lr: 4.0000e-05\n",
            "Epoch 30/1000\n",
            "125/125 [==============================] - 15s 117ms/step - loss: 0.5546 - accuracy: 0.7225 - val_loss: 0.5391 - val_accuracy: 0.7240 - lr: 4.0000e-05\n",
            "Epoch 31/1000\n",
            "125/125 [==============================] - 15s 117ms/step - loss: 0.5574 - accuracy: 0.7150 - val_loss: 0.5390 - val_accuracy: 0.7260 - lr: 4.0000e-05\n",
            "Epoch 32/1000\n",
            "125/125 [==============================] - 15s 117ms/step - loss: 0.5676 - accuracy: 0.6965 - val_loss: 0.5370 - val_accuracy: 0.7220 - lr: 4.0000e-05\n",
            "Epoch 33/1000\n",
            "125/125 [==============================] - 15s 120ms/step - loss: 0.5586 - accuracy: 0.7097 - val_loss: 0.5363 - val_accuracy: 0.7210 - lr: 4.0000e-05\n",
            "Epoch 34/1000\n",
            "125/125 [==============================] - 15s 119ms/step - loss: 0.5555 - accuracy: 0.7140 - val_loss: 0.5366 - val_accuracy: 0.7230 - lr: 8.0000e-06\n",
            "Epoch 35/1000\n",
            "125/125 [==============================] - 14s 115ms/step - loss: 0.5531 - accuracy: 0.7175 - val_loss: 0.5365 - val_accuracy: 0.7180 - lr: 8.0000e-06\n",
            "Epoch 36/1000\n",
            "125/125 [==============================] - 15s 118ms/step - loss: 0.5581 - accuracy: 0.7113 - val_loss: 0.5368 - val_accuracy: 0.7190 - lr: 8.0000e-06\n",
            "Epoch 37/1000\n",
            "125/125 [==============================] - 14s 115ms/step - loss: 0.5629 - accuracy: 0.7153 - val_loss: 0.5370 - val_accuracy: 0.7160 - lr: 8.0000e-06\n",
            "Epoch 38/1000\n",
            "125/125 [==============================] - 15s 124ms/step - loss: 0.5659 - accuracy: 0.7103 - val_loss: 0.5365 - val_accuracy: 0.7210 - lr: 8.0000e-06\n",
            "Epoch 39/1000\n",
            "125/125 [==============================] - 14s 110ms/step - loss: 0.5619 - accuracy: 0.7107 - val_loss: 0.5365 - val_accuracy: 0.7220 - lr: 1.6000e-06\n",
            "Epoch 40/1000\n",
            "125/125 [==============================] - 15s 119ms/step - loss: 0.5641 - accuracy: 0.7132 - val_loss: 0.5366 - val_accuracy: 0.7210 - lr: 1.6000e-06\n",
            "Epoch 41/1000\n",
            "125/125 [==============================] - 15s 117ms/step - loss: 0.5607 - accuracy: 0.7138 - val_loss: 0.5370 - val_accuracy: 0.7160 - lr: 1.6000e-06\n",
            "Epoch 42/1000\n",
            "125/125 [==============================] - 15s 119ms/step - loss: 0.5623 - accuracy: 0.7055 - val_loss: 0.5371 - val_accuracy: 0.7190 - lr: 1.6000e-06\n",
            "Epoch 43/1000\n",
            "125/125 [==============================] - 15s 124ms/step - loss: 0.5614 - accuracy: 0.7165 - val_loss: 0.5368 - val_accuracy: 0.7230 - lr: 1.6000e-06\n"
          ]
        }
      ]
    },
    {
      "cell_type": "code",
      "source": [
        "# Fine-Tuning\n",
        "densenet.trainable = True\n",
        "fine_tune_at = 100\n",
        "for layer in densenet.layers[:fine_tune_at]:\n",
        "    layer.trainable = False\n"
      ],
      "metadata": {
        "id": "WoDW8yNf21k5"
      },
      "id": "WoDW8yNf21k5",
      "execution_count": 14,
      "outputs": []
    },
    {
      "cell_type": "code",
      "source": [
        "# Recompile the model with a lower learning rate\n",
        "model.compile(loss='categorical_crossentropy', optimizer=tf.keras.optimizers.Adam(lr=1e-5), metrics=['accuracy'])\n"
      ],
      "metadata": {
        "colab": {
          "base_uri": "https://localhost:8080/"
        },
        "id": "TGnK-Ond3Bz_",
        "outputId": "23254003-3e17-4376-d575-d566a79cc810"
      },
      "id": "TGnK-Ond3Bz_",
      "execution_count": 15,
      "outputs": [
        {
          "output_type": "stream",
          "name": "stderr",
          "text": [
            "WARNING:absl:`lr` is deprecated in Keras optimizer, please use `learning_rate` or use the legacy optimizer, e.g.,tf.keras.optimizers.legacy.Adam.\n"
          ]
        }
      ]
    },
    {
      "cell_type": "code",
      "source": [
        "# Continue Training for Fine-Tuning\n",
        "history_fine = model.fit(\n",
        "    datagen.flow(X_train, y_train, batch_size=32, seed=seed),\n",
        "    epochs=1000,  # Adjust as necessary\n",
        "    validation_data=(X_val, y_val),\n",
        "    callbacks=[early_stopping, model_checkpoint, reduce_lr]\n",
        ")\n",
        "# Save the model\n",
        "model.save('SubmissionModel.h5')\n",
        "# Save the model\n",
        "model.save('SubmissionModel')"
      ],
      "metadata": {
        "colab": {
          "base_uri": "https://localhost:8080/"
        },
        "id": "333P7JNT3Cqy",
        "outputId": "bc058914-149a-486a-bb9b-d95f86731439"
      },
      "id": "333P7JNT3Cqy",
      "execution_count": 16,
      "outputs": [
        {
          "output_type": "stream",
          "name": "stdout",
          "text": [
            "Epoch 1/1000\n",
            "125/125 [==============================] - 80s 226ms/step - loss: 0.5681 - accuracy: 0.7340 - val_loss: 23.8002 - val_accuracy: 0.7280 - lr: 0.0010\n",
            "Epoch 2/1000\n",
            "125/125 [==============================] - 19s 148ms/step - loss: 0.4672 - accuracy: 0.7925 - val_loss: 0.7582 - val_accuracy: 0.7560 - lr: 0.0010\n",
            "Epoch 3/1000\n",
            "125/125 [==============================] - 18s 146ms/step - loss: 0.4214 - accuracy: 0.8077 - val_loss: 0.9185 - val_accuracy: 0.6960 - lr: 0.0010\n",
            "Epoch 4/1000\n",
            "125/125 [==============================] - 67s 542ms/step - loss: 0.3819 - accuracy: 0.8313 - val_loss: 0.3926 - val_accuracy: 0.8230 - lr: 0.0010\n",
            "Epoch 5/1000\n",
            "125/125 [==============================] - 19s 151ms/step - loss: 0.3681 - accuracy: 0.8380 - val_loss: 0.5661 - val_accuracy: 0.7570 - lr: 0.0010\n",
            "Epoch 6/1000\n",
            "125/125 [==============================] - 19s 151ms/step - loss: 0.3792 - accuracy: 0.8378 - val_loss: 0.7277 - val_accuracy: 0.8570 - lr: 0.0010\n",
            "Epoch 7/1000\n",
            "125/125 [==============================] - 19s 148ms/step - loss: 0.3732 - accuracy: 0.8385 - val_loss: 0.4170 - val_accuracy: 0.8610 - lr: 0.0010\n",
            "Epoch 8/1000\n",
            "125/125 [==============================] - 68s 544ms/step - loss: 0.3436 - accuracy: 0.8512 - val_loss: 0.3415 - val_accuracy: 0.8620 - lr: 0.0010\n",
            "Epoch 9/1000\n",
            "125/125 [==============================] - 19s 155ms/step - loss: 0.4526 - accuracy: 0.8190 - val_loss: 0.3880 - val_accuracy: 0.8410 - lr: 0.0010\n",
            "Epoch 10/1000\n",
            "125/125 [==============================] - 19s 155ms/step - loss: 0.3750 - accuracy: 0.8355 - val_loss: 20.7180 - val_accuracy: 0.6050 - lr: 0.0010\n",
            "Epoch 11/1000\n",
            "125/125 [==============================] - 19s 152ms/step - loss: 0.4293 - accuracy: 0.8170 - val_loss: 0.5030 - val_accuracy: 0.8230 - lr: 0.0010\n",
            "Epoch 12/1000\n",
            "125/125 [==============================] - 19s 152ms/step - loss: 0.3679 - accuracy: 0.8478 - val_loss: 2.2777 - val_accuracy: 0.8160 - lr: 0.0010\n",
            "Epoch 13/1000\n",
            "125/125 [==============================] - 23s 184ms/step - loss: 0.3514 - accuracy: 0.8553 - val_loss: 0.3750 - val_accuracy: 0.8530 - lr: 0.0010\n",
            "Epoch 14/1000\n",
            "125/125 [==============================] - 19s 152ms/step - loss: 0.2957 - accuracy: 0.8788 - val_loss: 0.3424 - val_accuracy: 0.8700 - lr: 2.0000e-04\n",
            "Epoch 15/1000\n",
            "125/125 [==============================] - 69s 553ms/step - loss: 0.2722 - accuracy: 0.8890 - val_loss: 0.3321 - val_accuracy: 0.8760 - lr: 2.0000e-04\n",
            "Epoch 16/1000\n",
            "125/125 [==============================] - 69s 553ms/step - loss: 0.2784 - accuracy: 0.8810 - val_loss: 0.3101 - val_accuracy: 0.8810 - lr: 2.0000e-04\n",
            "Epoch 17/1000\n",
            "125/125 [==============================] - 69s 559ms/step - loss: 0.2621 - accuracy: 0.8903 - val_loss: 0.2897 - val_accuracy: 0.8950 - lr: 2.0000e-04\n",
            "Epoch 18/1000\n",
            "125/125 [==============================] - 20s 158ms/step - loss: 0.2456 - accuracy: 0.8965 - val_loss: 0.3066 - val_accuracy: 0.8860 - lr: 2.0000e-04\n",
            "Epoch 19/1000\n",
            "125/125 [==============================] - 69s 553ms/step - loss: 0.2314 - accuracy: 0.9038 - val_loss: 0.2646 - val_accuracy: 0.8990 - lr: 2.0000e-04\n",
            "Epoch 20/1000\n",
            "125/125 [==============================] - 71s 572ms/step - loss: 0.2460 - accuracy: 0.9028 - val_loss: 0.2525 - val_accuracy: 0.8990 - lr: 2.0000e-04\n",
            "Epoch 21/1000\n",
            "125/125 [==============================] - 19s 154ms/step - loss: 0.2347 - accuracy: 0.9025 - val_loss: 0.3068 - val_accuracy: 0.8850 - lr: 2.0000e-04\n",
            "Epoch 22/1000\n",
            "125/125 [==============================] - 19s 153ms/step - loss: 0.2254 - accuracy: 0.9040 - val_loss: 0.2636 - val_accuracy: 0.9070 - lr: 2.0000e-04\n",
            "Epoch 23/1000\n",
            "125/125 [==============================] - 19s 148ms/step - loss: 0.2034 - accuracy: 0.9137 - val_loss: 0.2717 - val_accuracy: 0.8980 - lr: 2.0000e-04\n",
            "Epoch 24/1000\n",
            "125/125 [==============================] - 19s 151ms/step - loss: 0.2011 - accuracy: 0.9193 - val_loss: 0.2852 - val_accuracy: 0.8970 - lr: 2.0000e-04\n",
            "Epoch 25/1000\n",
            "125/125 [==============================] - 20s 161ms/step - loss: 0.2026 - accuracy: 0.9160 - val_loss: 0.2833 - val_accuracy: 0.8970 - lr: 2.0000e-04\n",
            "Epoch 26/1000\n",
            "125/125 [==============================] - 20s 156ms/step - loss: 0.1735 - accuracy: 0.9310 - val_loss: 0.2735 - val_accuracy: 0.8990 - lr: 4.0000e-05\n",
            "Epoch 27/1000\n",
            "125/125 [==============================] - 19s 151ms/step - loss: 0.2019 - accuracy: 0.9160 - val_loss: 0.2570 - val_accuracy: 0.9010 - lr: 4.0000e-05\n",
            "Epoch 28/1000\n",
            "125/125 [==============================] - 19s 149ms/step - loss: 0.1884 - accuracy: 0.9250 - val_loss: 0.2539 - val_accuracy: 0.9020 - lr: 4.0000e-05\n",
            "Epoch 29/1000\n",
            "125/125 [==============================] - 19s 152ms/step - loss: 0.1749 - accuracy: 0.9310 - val_loss: 0.2663 - val_accuracy: 0.8980 - lr: 4.0000e-05\n",
            "Epoch 30/1000\n",
            "125/125 [==============================] - 19s 154ms/step - loss: 0.1821 - accuracy: 0.9245 - val_loss: 0.2612 - val_accuracy: 0.9060 - lr: 4.0000e-05\n",
            "Epoch 31/1000\n",
            "125/125 [==============================] - 19s 151ms/step - loss: 0.1840 - accuracy: 0.9287 - val_loss: 0.2657 - val_accuracy: 0.9050 - lr: 8.0000e-06\n",
            "Epoch 32/1000\n",
            "125/125 [==============================] - 19s 153ms/step - loss: 0.1787 - accuracy: 0.9298 - val_loss: 0.2699 - val_accuracy: 0.9050 - lr: 8.0000e-06\n",
            "Epoch 33/1000\n",
            "125/125 [==============================] - 19s 154ms/step - loss: 0.1636 - accuracy: 0.9312 - val_loss: 0.2698 - val_accuracy: 0.9040 - lr: 8.0000e-06\n",
            "Epoch 34/1000\n",
            "125/125 [==============================] - 19s 150ms/step - loss: 0.1696 - accuracy: 0.9320 - val_loss: 0.2676 - val_accuracy: 0.9020 - lr: 8.0000e-06\n",
            "Epoch 35/1000\n",
            "125/125 [==============================] - 22s 179ms/step - loss: 0.1630 - accuracy: 0.9365 - val_loss: 0.2721 - val_accuracy: 0.9080 - lr: 8.0000e-06\n",
            "Epoch 36/1000\n",
            "125/125 [==============================] - 19s 153ms/step - loss: 0.1694 - accuracy: 0.9337 - val_loss: 0.2731 - val_accuracy: 0.9040 - lr: 1.6000e-06\n",
            "Epoch 37/1000\n",
            "125/125 [==============================] - 18s 148ms/step - loss: 0.1599 - accuracy: 0.9350 - val_loss: 0.2757 - val_accuracy: 0.9070 - lr: 1.6000e-06\n",
            "Epoch 38/1000\n",
            "125/125 [==============================] - 19s 152ms/step - loss: 0.1644 - accuracy: 0.9323 - val_loss: 0.2755 - val_accuracy: 0.9080 - lr: 1.6000e-06\n",
            "Epoch 39/1000\n",
            "125/125 [==============================] - 19s 155ms/step - loss: 0.1654 - accuracy: 0.9348 - val_loss: 0.2732 - val_accuracy: 0.9060 - lr: 1.6000e-06\n",
            "Epoch 40/1000\n",
            "125/125 [==============================] - 20s 161ms/step - loss: 0.1607 - accuracy: 0.9360 - val_loss: 0.2741 - val_accuracy: 0.9030 - lr: 1.6000e-06\n"
          ]
        },
        {
          "output_type": "stream",
          "name": "stderr",
          "text": [
            "/usr/local/lib/python3.10/dist-packages/keras/src/engine/training.py:3079: UserWarning: You are saving your model as an HDF5 file via `model.save()`. This file format is considered legacy. We recommend using instead the native Keras format, e.g. `model.save('my_model.keras')`.\n",
            "  saving_api.save_model(\n"
          ]
        }
      ]
    },
    {
      "cell_type": "code",
      "source": [
        "# Save the model\n",
        "model.save('SubmissionModel.h5')\n",
        "# Save the model\n",
        "model.save('SubmissionModel')\n",
        "model.save(os.path.join('/content/drive/My Drive/ANN & DL/', 'SubmissionModel'))"
      ],
      "metadata": {
        "colab": {
          "base_uri": "https://localhost:8080/"
        },
        "id": "idtwFP0glQ38",
        "outputId": "053713d0-1599-4d0d-972f-d8561f8b60c6"
      },
      "id": "idtwFP0glQ38",
      "execution_count": 18,
      "outputs": [
        {
          "output_type": "stream",
          "name": "stderr",
          "text": [
            "/usr/local/lib/python3.10/dist-packages/keras/src/engine/training.py:3079: UserWarning: You are saving your model as an HDF5 file via `model.save()`. This file format is considered legacy. We recommend using instead the native Keras format, e.g. `model.save('my_model.keras')`.\n",
            "  saving_api.save_model(\n"
          ]
        }
      ]
    },
    {
      "cell_type": "code",
      "source": [
        "# Evaluate the model\n",
        "def evaluate_model(history):\n",
        "    plt.figure(figsize=(12, 5))\n",
        "    plt.subplot(1, 2, 1)\n",
        "    plt.plot(history.history['accuracy'], label='Training Accuracy')\n",
        "    plt.plot(history.history['val_accuracy'], label='Validation Accuracy')\n",
        "    plt.title('Accuracy over epochs')\n",
        "    plt.legend()\n",
        "\n",
        "    plt.subplot(1, 2, 2)\n",
        "    plt.plot(history.history['loss'], label='Training Loss')\n",
        "    plt.plot(history.history['val_loss'], label='Validation Loss')\n",
        "    plt.title('Loss over epochs')\n",
        "    plt.legend()\n",
        "    plt.show()\n",
        "\n",
        "evaluate_model(history)"
      ],
      "metadata": {
        "colab": {
          "base_uri": "https://localhost:8080/",
          "height": 339
        },
        "id": "sS-YpkMaO6R8",
        "outputId": "04004875-4f3f-4726-98ed-d2e7d0412402"
      },
      "id": "sS-YpkMaO6R8",
      "execution_count": 20,
      "outputs": [
        {
          "output_type": "error",
          "ename": "NameError",
          "evalue": "ignored",
          "traceback": [
            "\u001b[0;31m---------------------------------------------------------------------------\u001b[0m",
            "\u001b[0;31mNameError\u001b[0m                                 Traceback (most recent call last)",
            "\u001b[0;32m<ipython-input-20-581360e9dddf>\u001b[0m in \u001b[0;36m<cell line: 17>\u001b[0;34m()\u001b[0m\n\u001b[1;32m     15\u001b[0m     \u001b[0mplt\u001b[0m\u001b[0;34m.\u001b[0m\u001b[0mshow\u001b[0m\u001b[0;34m(\u001b[0m\u001b[0;34m)\u001b[0m\u001b[0;34m\u001b[0m\u001b[0;34m\u001b[0m\u001b[0m\n\u001b[1;32m     16\u001b[0m \u001b[0;34m\u001b[0m\u001b[0m\n\u001b[0;32m---> 17\u001b[0;31m \u001b[0mevaluate_model\u001b[0m\u001b[0;34m(\u001b[0m\u001b[0mhistory\u001b[0m\u001b[0;34m)\u001b[0m\u001b[0;34m\u001b[0m\u001b[0;34m\u001b[0m\u001b[0m\n\u001b[0m",
            "\u001b[0;32m<ipython-input-20-581360e9dddf>\u001b[0m in \u001b[0;36mevaluate_model\u001b[0;34m(history)\u001b[0m\n\u001b[1;32m      1\u001b[0m \u001b[0;31m# Evaluate the model\u001b[0m\u001b[0;34m\u001b[0m\u001b[0;34m\u001b[0m\u001b[0m\n\u001b[1;32m      2\u001b[0m \u001b[0;32mdef\u001b[0m \u001b[0mevaluate_model\u001b[0m\u001b[0;34m(\u001b[0m\u001b[0mhistory\u001b[0m\u001b[0;34m)\u001b[0m\u001b[0;34m:\u001b[0m\u001b[0;34m\u001b[0m\u001b[0;34m\u001b[0m\u001b[0m\n\u001b[0;32m----> 3\u001b[0;31m     \u001b[0mplt\u001b[0m\u001b[0;34m.\u001b[0m\u001b[0mfigure\u001b[0m\u001b[0;34m(\u001b[0m\u001b[0mfigsize\u001b[0m\u001b[0;34m=\u001b[0m\u001b[0;34m(\u001b[0m\u001b[0;36m12\u001b[0m\u001b[0;34m,\u001b[0m \u001b[0;36m5\u001b[0m\u001b[0;34m)\u001b[0m\u001b[0;34m)\u001b[0m\u001b[0;34m\u001b[0m\u001b[0;34m\u001b[0m\u001b[0m\n\u001b[0m\u001b[1;32m      4\u001b[0m     \u001b[0mplt\u001b[0m\u001b[0;34m.\u001b[0m\u001b[0msubplot\u001b[0m\u001b[0;34m(\u001b[0m\u001b[0;36m1\u001b[0m\u001b[0;34m,\u001b[0m \u001b[0;36m2\u001b[0m\u001b[0;34m,\u001b[0m \u001b[0;36m1\u001b[0m\u001b[0;34m)\u001b[0m\u001b[0;34m\u001b[0m\u001b[0;34m\u001b[0m\u001b[0m\n\u001b[1;32m      5\u001b[0m     \u001b[0mplt\u001b[0m\u001b[0;34m.\u001b[0m\u001b[0mplot\u001b[0m\u001b[0;34m(\u001b[0m\u001b[0mhistory\u001b[0m\u001b[0;34m.\u001b[0m\u001b[0mhistory\u001b[0m\u001b[0;34m[\u001b[0m\u001b[0;34m'accuracy'\u001b[0m\u001b[0;34m]\u001b[0m\u001b[0;34m,\u001b[0m \u001b[0mlabel\u001b[0m\u001b[0;34m=\u001b[0m\u001b[0;34m'Training Accuracy'\u001b[0m\u001b[0;34m)\u001b[0m\u001b[0;34m\u001b[0m\u001b[0;34m\u001b[0m\u001b[0m\n",
            "\u001b[0;31mNameError\u001b[0m: name 'plt' is not defined"
          ]
        }
      ]
    },
    {
      "cell_type": "code",
      "source": [
        "# Validation accuracy\n",
        "val_pred = np.argmax(model.predict(X_val), axis=1)\n",
        "val_true = np.argmax(y_val, axis=1)\n",
        "print('Validation accuracy:', accuracy_score(val_true, val_pred))"
      ],
      "metadata": {
        "id": "g3Zz9aSvO8Pe"
      },
      "id": "g3Zz9aSvO8Pe",
      "execution_count": null,
      "outputs": []
    }
  ],
  "metadata": {
    "kernelspec": {
      "display_name": "Python 3",
      "name": "python3"
    },
    "language_info": {
      "codemirror_mode": {
        "name": "ipython",
        "version": 3
      },
      "file_extension": ".py",
      "mimetype": "text/x-python",
      "name": "python",
      "nbconvert_exporter": "python",
      "pygments_lexer": "ipython3",
      "version": "3.10.9"
    },
    "colab": {
      "provenance": [],
      "gpuType": "T4"
    },
    "accelerator": "GPU"
  },
  "nbformat": 4,
  "nbformat_minor": 5
}