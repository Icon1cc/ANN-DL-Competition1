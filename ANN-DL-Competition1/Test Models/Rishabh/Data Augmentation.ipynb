{
 "cells": [
  {
   "cell_type": "code",
   "execution_count": 48,
   "metadata": {},
   "outputs": [],
   "source": [
    "import numpy as np\n",
    "import matplotlib.pyplot as plt\n",
    "import tensorflow as tf\n",
    "import tensorflow.keras as tfk\n",
    "import tensorflow.keras.layers as tfkl"
   ]
  },
  {
   "cell_type": "code",
   "execution_count": 49,
   "metadata": {},
   "outputs": [],
   "source": [
    "\n",
    "def augment_image(X, rotation = 0.2, zoom = 0.2,  flip = \"horizontal\", translation = 0.2):\n",
    "    rotation_ = tf.keras.Sequential([\n",
    "    tfkl.RandomRotation(rotation),\n",
    "    ])\n",
    "\n",
    "    zoom_ = tf.keras.Sequential([\n",
    "    tfkl.RandomZoom(zoom),\n",
    "    ])\n",
    "\n",
    "    # translation = tf.keras.Sequential([\n",
    "    #   tfkl.RandomTranslation(translation),\n",
    "    # ])\n",
    "\n",
    "    flip_ = tf.keras.Sequential([\n",
    "    tfkl.RandomFlip(flip),\n",
    "    ])\n",
    "    # Returns randomly rotated, zoomed and flipped image(s) \n",
    "    # X: image(s) to be augmented\n",
    "    # rotation: rotation range in degrees\n",
    "    # zoom: zoom range\n",
    "    # flip: \"horizontal\", \"vertical\" or None\n",
    "\n",
    "    return rotation_((flip_(zoom_(X))))"
   ]
  },
  {
   "cell_type": "code",
   "execution_count": 85,
   "metadata": {},
   "outputs": [],
   "source": [
    "def equalize_classdistribution(X_healthy, X_unhealthy, y_healthy, y_unhealthy):\n",
    "    # Equalize the class distribution by augmenting the smaller class\n",
    "    # X_healthy: healthy images\n",
    "    # X_unhealthy: unhealthy images\n",
    "    # y_healthy: healthy labels\n",
    "    # y_unhealthy: unhealthy labels\n",
    "    #                                                               !!!!!!!!!!!!!!!!!!!!!!!!!!!!!!!!!!!!!!!!!!!!!!!!!!!!!!!!!!!!!!!!!!!!!!!!!\n",
    "    # Returns the augmented healthy and unhealthy images and labels AS TENSORS OF FLOATS in range [0,1], remember to convert back to [0, 255]\n",
    "    #                                                               !!!!!!!!!!!!!!!!!!!!!!!!!!!!!!!!!!!!!!!!!!!!!!!!!!!!!!!!!!!!!!!!!!!!!!!!!\n",
    "\n",
    "    # Convert to float\n",
    "    for X in [X_healthy, X_unhealthy]:\n",
    "        if X.max() > 1:\n",
    "            X = X/255\n",
    "\n",
    "    # Augment the smaller class\n",
    "    diff = len(X_healthy) - len(X_unhealthy)\n",
    "    if diff > 0:\n",
    "        X = X_unhealthy.copy()\n",
    "        y = y_unhealthy.copy()\n",
    "        random_indices = np.random.randint(0, len(X), size=diff)\n",
    "        X_unhealthy_augmented = augment_image(X[random_indices], rotation = 0.2, zoom = 0,  flip = \"horizontal\")\n",
    "        X_unhealthy_augmented = X_unhealthy_augmented.numpy()\n",
    "        y_unhealthy_augmented = y[random_indices]\n",
    "        # Concatenate the augmented diseased plants with the diseased plants\n",
    "        X_unhealthy = np.concatenate((X_unhealthy, X_unhealthy_augmented))\n",
    "        y_unhealthy = np.concatenate((y_unhealthy, y_unhealthy_augmented))\n",
    "\n",
    "    else:\n",
    "        X = X_healthy.copy()\n",
    "        y = y_healthy.copy()\n",
    "        diff = -diff\n",
    "        random_indices = np.random.randint(0, len(X), size=diff)\n",
    "        X_healthy_augmented = augment_image(X[random_indices], rotation = 0.2, zoom = 0.2,  flip = \"horizontal\")\n",
    "        X_healthy_augmented = X_healthy_augmented.numpy()\n",
    "        y_healthy_augmented = y[random_indices]\n",
    "        # Concatenate the augmented diseased plants with the diseased plants\n",
    "        X_healthy = np.concatenate((X_healthy, X_healthy_augmented))\n",
    "        y_healthy = np.concatenate((y_healthy, y_healthy_augmented))\n",
    "\n",
    "    return X_healthy, X_unhealthy, y_healthy, y_unhealthy\n",
    "\n"
   ]
  },
  {
   "cell_type": "code",
   "execution_count": 87,
   "metadata": {},
   "outputs": [
    {
     "name": "stdout",
     "output_type": "stream",
     "text": [
      "Original X:\n"
     ]
    },
    {
     "data": {
      "image/png": "[encoded data removed]",
      "text/plain": [
       "<Figure size 640x480 with 4 Axes>"
      ]
     },
     "metadata": {},
     "output_type": "display_data"
    },
    {
     "name": "stdout",
     "output_type": "stream",
     "text": [
      "Original X2:\n"
     ]
    },
    {
     "data": {
      "image/png": "[encoded data removed]",
      "text/plain": [
       "<Figure size 640x480 with 2 Axes>"
      ]
     },
     "metadata": {},
     "output_type": "display_data"
    },
    {
     "name": "stdout",
     "output_type": "stream",
     "text": [
      "X:\n"
     ]
    },
    {
     "data": {
      "image/png": "[encoded data removed]",
      "text/plain": [
       "<Figure size 640x480 with 4 Axes>"
      ]
     },
     "metadata": {},
     "output_type": "display_data"
    },
    {
     "name": "stdout",
     "output_type": "stream",
     "text": [
      "X2:\n"
     ]
    },
    {
     "data": {
      "image/png": "[encoded data removed]",
      "text/plain": [
       "<Figure size 640x480 with 4 Axes>"
      ]
     },
     "metadata": {},
     "output_type": "display_data"
    }
   ],
   "source": [
    "# Demonstration of equalizing the class distribution\n",
    "\n",
    "# Test on some random images\n",
    "# Create sample crosses as images\n",
    "\n",
    "X = np.zeros((4, 32, 32, 3))\n",
    "X[0, 16, :, :] = 1\n",
    "X[1, :, 16, :] = 1\n",
    "X[2, 16, :, :] = 1\n",
    "X[2, :, 16, :] = 1\n",
    "X[3, 10, :, :] = 1\n",
    "X[3, 20, :, :] = 1\n",
    "\n",
    "X2 = np.zeros((2, 32, 32, 3))\n",
    "X2[0, 16:, 16:, :] = 1\n",
    "X2[1, :, 16:, :] = 1\n",
    "\n",
    "\n",
    "\n",
    "# Display sample images\n",
    "print(\"Original X:\")\n",
    "for i in range(4):\n",
    "    plt.subplot(1, 4, i+1)\n",
    "    plt.imshow(X[i])\n",
    "    plt.axis('off')\n",
    "plt.show()\n",
    "\n",
    "print(\"Original X2:\")\n",
    "for i in range(2):\n",
    "    plt.subplot(1, 4, i+1)\n",
    "    plt.imshow(X2[i])\n",
    "    plt.axis('off')\n",
    "\n",
    "plt.show()\n",
    "\n",
    "X, X2, y, y2 = equalize_classdistribution(X, X2, np.zeros(4), np.ones(2))\n",
    " \n",
    "\n",
    "print(\"X:\")\n",
    "for i in range(max(len(X), len(X2))):\n",
    "    plt.subplot(1, max(len(X), len(X2)), i+1)\n",
    "    plt.imshow(X[i])\n",
    "    plt.axis('off')\n",
    "plt.show()\n",
    "\n",
    "print(\"X2:\")\n",
    "for i in range(max(len(X), len(X2))):\n",
    "    plt.subplot(1, max(len(X), len(X2)), i+1)\n",
    "    plt.imshow(X2[i])\n",
    "    plt.axis('off')"
   ]
  }
 ],
 "metadata": {
  "kernelspec": {
   "display_name": "Python 3",
   "language": "python",
   "name": "python3"
  },
  "language_info": {
   "codemirror_mode": {
    "name": "ipython",
    "version": 3
   },
   "file_extension": ".py",
   "mimetype": "text/x-python",
   "name": "python",
   "nbconvert_exporter": "python",
   "pygments_lexer": "ipython3",
   "version": "3.10.8"
  }
 },
 "nbformat": 4,
 "nbformat_minor": 2
}
