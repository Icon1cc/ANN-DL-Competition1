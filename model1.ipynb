{
 "cells": [
  {
   "cell_type": "code",
   "execution_count": 1,
   "id": "94ae0cc5",
   "metadata": {},
   "outputs": [],
   "source": [
    "import numpy as np\n",
    "from tensorflow.keras.models import load_model\n",
    "from sklearn.decomposition import PCA\n",
    "from tensorflow.keras.applications.vgg16 import preprocess_input\n",
    "\n",
    "class model:\n",
    "    def __init__(self, path='/Users/rishabhtiwari/Documents/Uni Heidelberg/Academic Year Erasmus/Semester 1/Artificial Neural Network and Deep Learning/Practical/ANN-DL-Competition1/'):\n",
    "        # Load the pre-trained models and PCA\n",
    "        # Ensure these files are saved and submitted with your code\n",
    "        self.feature_model = load_model(path + 'vgg16_feature_extractor.h5')\n",
    "        self.pca = PCA(n_components=50)  # Adjust number of components if needed\n",
    "        # Load PCA parameters (ensure 'pca.pkl' is saved and submitted)\n",
    "        self.pca = joblib.load(path + 'pca.pkl')\n",
    "        self.classification_model = load_model(path + 'classification_model.h5')\n",
    "\n",
    "    def predict(self, X):\n",
    "        # Preprocess the images\n",
    "        X_preprocessed = preprocess_input(X)\n",
    "\n",
    "        # Extract features using the VGG16 model\n",
    "        features = self.feature_model.predict(X_preprocessed)\n",
    "\n",
    "        # Reduce the features using PCA\n",
    "        X_pca = self.pca.transform(features)\n",
    "\n",
    "        # Predict using the classification model\n",
    "        predictions = self.classification_model.predict(X_pca)\n",
    "        \n",
    "        # Convert predictions to binary labels (0 or 1)\n",
    "        binary_predictions = (predictions > 0.5).astype(int).flatten()\n",
    "\n",
    "        return binary_predictions\n"
   ]
  },
  {
   "cell_type": "code",
   "execution_count": null,
   "id": "34e813a7",
   "metadata": {},
   "outputs": [],
   "source": []
  }
 ],
 "metadata": {
  "kernelspec": {
   "display_name": "Python 3 (ipykernel)",
   "language": "python",
   "name": "python3"
  },
  "language_info": {
   "codemirror_mode": {
    "name": "ipython",
    "version": 3
   },
   "file_extension": ".py",
   "mimetype": "text/x-python",
   "name": "python",
   "nbconvert_exporter": "python",
   "pygments_lexer": "ipython3",
   "version": "3.11.5"
  }
 },
 "nbformat": 4,
 "nbformat_minor": 5
}
