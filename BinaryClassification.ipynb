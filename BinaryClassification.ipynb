{
 "cells": [
  {
   "cell_type": "code",
   "execution_count": 1,
   "id": "3a97f0b0",
   "metadata": {},
   "outputs": [],
   "source": [
    "import numpy as np\n",
    "import tensorflow as tf\n",
    "from tensorflow.keras.models import Sequential\n",
    "from tensorflow.keras.layers import Conv2D, MaxPooling2D, Flatten, Dense, Dropout\n",
    "from tensorflow.keras.preprocessing.image import ImageDataGenerator\n"
   ]
  },
  {
   "cell_type": "code",
   "execution_count": 9,
   "id": "937825b8",
   "metadata": {},
   "outputs": [],
   "source": [
    "# Load the dataset\n",
    "data = np.load('/Users/rishabhtiwari/Documents/Uni Heidelberg/Academic Year Erasmus/Semester 1/Artificial Neural Network and Deep Learning/Practical/ANN-DL-Competition1/public_data.npz', allow_pickle=True)"
   ]
  },
  {
   "cell_type": "code",
   "execution_count": 10,
   "id": "dbb4e296",
   "metadata": {},
   "outputs": [],
   "source": [
    "X = data['data']  # Assuming this is your feature data\n",
    "y = data['labels']  # Assuming this is your label data"
   ]
  },
  {
   "cell_type": "code",
   "execution_count": 11,
   "id": "d0f8e161",
   "metadata": {},
   "outputs": [],
   "source": [
    "split_ratio = 0.8\n",
    "split_index = int(len(X) * split_ratio)\n",
    "X_train, X_test = X[:split_index], X[split_index:]\n",
    "y_train, y_test = y[:split_index], y[split_index:]"
   ]
  },
  {
   "cell_type": "code",
   "execution_count": 12,
   "id": "75c0d115",
   "metadata": {},
   "outputs": [],
   "source": [
    "# Normalize pixel values to be between 0 and 1 for both training and test sets\n",
    "X_train, X_test = X_train / 255.0, X_test / 255.0"
   ]
  },
  {
   "cell_type": "code",
   "execution_count": 13,
   "id": "768d3e49",
   "metadata": {},
   "outputs": [],
   "source": [
    "# Define the model (you can adjust the architecture as needed)\n",
    "model = Sequential([\n",
    "    Conv2D(32, (3, 3), activation='relu', input_shape=(X_train.shape[1], X_train.shape[2], X_train.shape[3])),\n",
    "    MaxPooling2D(2, 2),\n",
    "    Conv2D(64, (3, 3), activation='relu'),\n",
    "    MaxPooling2D(2, 2),\n",
    "    Flatten(),\n",
    "    Dense(128, activation='relu'),\n",
    "    Dropout(0.5),\n",
    "    Dense(1, activation='sigmoid')\n",
    "])"
   ]
  },
  {
   "cell_type": "code",
   "execution_count": 14,
   "id": "43a87f86",
   "metadata": {},
   "outputs": [],
   "source": [
    "# Compile the model\n",
    "model.compile(optimizer='adam', loss='binary_crossentropy', metrics=['accuracy'])"
   ]
  },
  {
   "cell_type": "code",
   "execution_count": 16,
   "id": "44d29c31",
   "metadata": {},
   "outputs": [
    {
     "name": "stdout",
     "output_type": "stream",
     "text": [
      "float32 float32\n"
     ]
    }
   ],
   "source": [
    "print(X_train.dtype, X_test.dtype)"
   ]
  },
  {
   "cell_type": "code",
   "execution_count": 17,
   "id": "7afcee88",
   "metadata": {},
   "outputs": [],
   "source": [
    "X_train = X_train.astype('float32')\n",
    "X_test = X_test.astype('float32')"
   ]
  },
  {
   "cell_type": "code",
   "execution_count": 18,
   "id": "33b0199e",
   "metadata": {},
   "outputs": [],
   "source": [
    "X_train /= 255.0\n",
    "X_test /= 255.0"
   ]
  },
  {
   "cell_type": "code",
   "execution_count": 20,
   "id": "64e20518",
   "metadata": {},
   "outputs": [
    {
     "name": "stdout",
     "output_type": "stream",
     "text": [
      "X_train dtype: float32\n",
      "y_train dtype: object\n",
      "X_test dtype: float32\n",
      "y_test dtype: object\n"
     ]
    }
   ],
   "source": [
    "print(\"X_train dtype:\", X_train.dtype)\n",
    "print(\"y_train dtype:\", y_train.dtype)\n",
    "print(\"X_test dtype:\", X_test.dtype)\n",
    "print(\"y_test dtype:\", y_test.dtype)\n"
   ]
  },
  {
   "cell_type": "code",
   "execution_count": 25,
   "id": "f9bd5715",
   "metadata": {},
   "outputs": [
    {
     "name": "stdout",
     "output_type": "stream",
     "text": [
      "Unique labels in y_train: [0 1]\n",
      "Unique labels in y_test: [0 1]\n"
     ]
    }
   ],
   "source": [
    "print(\"Unique labels in y_train:\", np.unique(y_train))\n",
    "print(\"Unique labels in y_test:\", np.unique(y_test))"
   ]
  },
  {
   "cell_type": "code",
   "execution_count": 26,
   "id": "0e0e14f9",
   "metadata": {},
   "outputs": [
    {
     "name": "stdout",
     "output_type": "stream",
     "text": [
      "Epoch 1/10\n",
      "130/130 [==============================] - 9s 69ms/step - loss: 0.6712 - accuracy: 0.6151 - val_loss: 0.6705 - val_accuracy: 0.6125\n",
      "Epoch 2/10\n",
      "130/130 [==============================] - 8s 63ms/step - loss: 0.6721 - accuracy: 0.6159 - val_loss: 0.6884 - val_accuracy: 0.6125\n",
      "Epoch 3/10\n",
      "130/130 [==============================] - 8s 58ms/step - loss: 0.6700 - accuracy: 0.6159 - val_loss: 0.6686 - val_accuracy: 0.6125\n",
      "Epoch 4/10\n",
      "130/130 [==============================] - 8s 58ms/step - loss: 0.6699 - accuracy: 0.6159 - val_loss: 0.6685 - val_accuracy: 0.6125\n",
      "Epoch 5/10\n",
      "130/130 [==============================] - 8s 62ms/step - loss: 0.6673 - accuracy: 0.6159 - val_loss: 0.6676 - val_accuracy: 0.6125\n",
      "Epoch 6/10\n",
      "130/130 [==============================] - 9s 72ms/step - loss: 0.6682 - accuracy: 0.6159 - val_loss: 0.6677 - val_accuracy: 0.6125\n",
      "Epoch 7/10\n",
      "130/130 [==============================] - 8s 63ms/step - loss: 0.6691 - accuracy: 0.6159 - val_loss: 0.6677 - val_accuracy: 0.6125\n",
      "Epoch 8/10\n",
      "130/130 [==============================] - 8s 63ms/step - loss: 0.6678 - accuracy: 0.6159 - val_loss: 0.6681 - val_accuracy: 0.6125\n",
      "Epoch 9/10\n",
      "130/130 [==============================] - 8s 62ms/step - loss: 0.6681 - accuracy: 0.6159 - val_loss: 0.6679 - val_accuracy: 0.6125\n",
      "Epoch 10/10\n",
      "130/130 [==============================] - 8s 63ms/step - loss: 0.6660 - accuracy: 0.6159 - val_loss: 0.6678 - val_accuracy: 0.6125\n",
      "33/33 [==============================] - 1s 17ms/step - loss: 0.6678 - accuracy: 0.6125\n",
      "Test Accuracy: 61.25%\n"
     ]
    }
   ],
   "source": [
    "# Train the model\n",
    "history = model.fit(X_train, y_train, epochs=10, validation_data=(X_test, y_test))\n",
    "\n",
    "# Evaluate the model (optional)\n",
    "loss, accuracy = model.evaluate(X_test, y_test)\n",
    "print(f\"Test Accuracy: {accuracy*100:.2f}%\")"
   ]
  },
  {
   "cell_type": "code",
   "execution_count": null,
   "id": "696bc93a",
   "metadata": {},
   "outputs": [],
   "source": []
  },
  {
   "cell_type": "code",
   "execution_count": null,
   "id": "05b691a0",
   "metadata": {},
   "outputs": [],
   "source": []
  }
 ],
 "metadata": {
  "kernelspec": {
   "display_name": "Python 3 (ipykernel)",
   "language": "python",
   "name": "python3"
  },
  "language_info": {
   "codemirror_mode": {
    "name": "ipython",
    "version": 3
   },
   "file_extension": ".py",
   "mimetype": "text/x-python",
   "name": "python",
   "nbconvert_exporter": "python",
   "pygments_lexer": "ipython3",
   "version": "3.11.5"
  }
 },
 "nbformat": 4,
 "nbformat_minor": 5
}
