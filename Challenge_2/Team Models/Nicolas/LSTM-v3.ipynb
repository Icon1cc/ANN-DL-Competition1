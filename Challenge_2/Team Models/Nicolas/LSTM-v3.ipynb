{
 "cells": [
  {
   "cell_type": "markdown",
   "id": "b72a895f",
   "metadata": {},
   "source": [
    "### Imports"
   ]
  },
  {
   "cell_type": "code",
   "execution_count": 1,
   "id": "65a98672",
   "metadata": {},
   "outputs": [
    {
     "name": "stdout",
     "output_type": "stream",
     "text": [
      "<module 'tensorflow._api.v2.version' from '/home/zyzz/anaconda3/lib/python3.11/site-packages/tensorflow/_api/v2/version/__init__.py'>\n",
      "[PhysicalDevice(name='/physical_device:GPU:0', device_type='GPU')]\n"
     ]
    }
   ],
   "source": [
    "import os\n",
    "import numpy as np\n",
    "import random\n",
    "import matplotlib.pyplot as plt\n",
    "\n",
    "import warnings\n",
    "warnings.filterwarnings('ignore') \n",
    "os.environ['TF_CPP_MIN_LOG_LEVEL'] = '3' # hopefully nothing explodes\n",
    "\n",
    "import tensorflow as tf\n",
    "from tensorflow import keras as tfk\n",
    "from tensorflow.keras import layers as tfkl\n",
    "print(tf.version)\n",
    "print(tf.config.list_physical_devices('GPU'))"
   ]
  },
  {
   "cell_type": "code",
   "execution_count": 2,
   "id": "7890573b",
   "metadata": {},
   "outputs": [],
   "source": [
    "# For reproducible results\n",
    "seed = 42\n",
    "os.environ['PYTHONHASHSEED']=str(seed)\n",
    "random.seed(seed)\n",
    "np.random.seed(seed)\n",
    "tf.random.set_seed(seed)  "
   ]
  },
  {
   "cell_type": "markdown",
   "id": "a958bf2e",
   "metadata": {},
   "source": [
    "## Data"
   ]
  },
  {
   "cell_type": "code",
   "execution_count": 3,
   "id": "19828e38",
   "metadata": {},
   "outputs": [],
   "source": [
    "# Constants\n",
    "val_size = 0.2\n",
    "data_path = 'training_dataset'\n",
    "seq_length = 200     # predictions based on previous seq_length data entries\n",
    "forecast_length = 9  # predicting forecast_length time steps into the future\n",
    "sample_length = seq_length + forecast_length"
   ]
  },
  {
   "cell_type": "code",
   "execution_count": 4,
   "id": "7d947d0e",
   "metadata": {
    "scrolled": true
   },
   "outputs": [
    {
     "name": "stdout",
     "output_type": "stream",
     "text": [
      "(48000, -)\n"
     ]
    }
   ],
   "source": [
    "# Read data (ignore categories)\n",
    "training_data = np.load(os.path.join(data_path, 'training_data.npy'))\n",
    "valid_periods = np.load(os.path.join(data_path, 'valid_periods.npy'))\n",
    "\n",
    "# Filter out unvalid data\n",
    "data = []\n",
    "for i, row in enumerate(training_data):\n",
    "    data.append(row[valid_periods[i][0]:valid_periods[i][1]])\n",
    "\n",
    "print(f\"({len(data)}, -)\")"
   ]
  },
  {
   "cell_type": "code",
   "execution_count": 5,
   "id": "3207e6e7",
   "metadata": {
    "scrolled": false
   },
   "outputs": [
    {
     "name": "stdout",
     "output_type": "stream",
     "text": [
      "(1873998, 200, 1) (471603, 200, 1) (1873998, 9, 1) (471603, 9, 1)\n"
     ]
    }
   ],
   "source": [
    "# Convert time series to {x: sequences of length seq_length, y: values to be predicted from previous sequence}\n",
    "def to_sequences(time_series):\n",
    "    \n",
    "    x = []\n",
    "    y = []\n",
    "    \n",
    "    for i in range(time_series.shape[0]-seq_length-forecast_length+1):\n",
    "        x.append(time_series[i:i+seq_length])\n",
    "        y.append(time_series[i+seq_length:i+seq_length+forecast_length])  \n",
    "    \n",
    "    x = np.array(x)\n",
    "    y = np.array(y)\n",
    "    \n",
    "    return {'x': x.reshape((x.shape[0], x.shape[1], -1)), 'y': y.reshape((y.shape[0], y.shape[1], -1))}\n",
    "\n",
    "# Shuffle data (we don't want to make any assumptions about the order)\n",
    "np.random.shuffle(data)\n",
    " \n",
    "# Build sequences from the non-correlated time series, and append them to corresponding data set\n",
    "# Note: there is no overlap between train and validation; each processed time series is used in train xor val\n",
    "X_train, X_val = [], []\n",
    "y_train, y_val = [], []\n",
    "split_index = int((1-val_size)*len(data))\n",
    "for i, time_series in enumerate(data): \n",
    "    if (len(time_series) >= sample_length): # assert we can draw at least one sample from the time_series\n",
    "        sequences = to_sequences(time_series)\n",
    "        if(i < split_index):\n",
    "            X_train.append(sequences['x']) \n",
    "            y_train.append(sequences['y'])   \n",
    "        else:\n",
    "            X_val.append(sequences['x']) \n",
    "            y_val.append(sequences['y'])  \n",
    "\n",
    "# Convert lists to nparrays \n",
    "X_train = np.concatenate(X_train, axis=0)\n",
    "X_val = np.concatenate(X_val, axis=0)\n",
    "y_train = np.concatenate(y_train, axis=0)\n",
    "y_val = np.concatenate(y_val, axis=0)\n",
    "print(X_train.shape, X_val.shape, y_train.shape, y_val.shape)"
   ]
  },
  {
   "cell_type": "markdown",
   "id": "1c27e38d",
   "metadata": {},
   "source": [
    "## ML"
   ]
  },
  {
   "cell_type": "code",
   "execution_count": 6,
   "id": "90cff0d6",
   "metadata": {},
   "outputs": [
    {
     "name": "stdout",
     "output_type": "stream",
     "text": [
      "Model: \"LSTM-v3\"\n",
      "_________________________________________________________________\n",
      " Layer (type)                Output Shape              Param #   \n",
      "=================================================================\n",
      " input_1 (InputLayer)        [(None, 200, 1)]          0         \n",
      "                                                                 \n",
      " conv1d (Conv1D)             (None, 200, 256)          1024      \n",
      "                                                                 \n",
      " max_pooling1d (MaxPooling1  (None, 100, 256)          0         \n",
      " D)                                                              \n",
      "                                                                 \n",
      " conv1d_1 (Conv1D)           (None, 100, 128)          98432     \n",
      "                                                                 \n",
      " max_pooling1d_1 (MaxPoolin  (None, 50, 128)           0         \n",
      " g1D)                                                            \n",
      "                                                                 \n",
      " lstm (LSTM)                 (None, 128)               131584    \n",
      "                                                                 \n",
      " batch_normalization (Batch  (None, 128)               512       \n",
      " Normalization)                                                  \n",
      "                                                                 \n",
      " dropout (Dropout)           (None, 128)               0         \n",
      "                                                                 \n",
      " dense (Dense)               (None, 9)                 1161      \n",
      "                                                                 \n",
      "=================================================================\n",
      "Total params: 232713 (909.04 KB)\n",
      "Trainable params: 232457 (908.04 KB)\n",
      "Non-trainable params: 256 (1.00 KB)\n",
      "_________________________________________________________________\n"
     ]
    }
   ],
   "source": [
    "input_shape = (X_train.shape[1], X_train.shape[2])\n",
    "output_shape = (y_train.shape[1], y_train.shape[2])\n",
    "dropout_rate = 0.15\n",
    "batch_size = 128\n",
    "lstm_units = 128\n",
    "filters = 256\n",
    "epochs = 1000\n",
    "\n",
    "def build_model(input_shape, filters, lstm_units, dropout_rate):\n",
    "    input_layer = tfkl.Input(shape=input_shape)\n",
    "      \n",
    "    # Extract features\n",
    "    cnn = tfkl.Conv1D(filters, 3, padding='same', activation='relu')(input_layer)\n",
    "    cnn = tfkl.MaxPooling1D()(cnn)\n",
    "    cnn = tfkl.Conv1D(filters//2, 3, padding='same', activation='relu')(cnn)\n",
    "    cnn = tfkl.MaxPooling1D()(cnn)\n",
    "    \n",
    "    # Extract time dependencies\n",
    "    lstm = tfkl.LSTM(units=lstm_units)(cnn)\n",
    "    x = tfkl.BatchNormalization()(lstm)\n",
    "    x = tfkl.Dropout(dropout_rate)(x)\n",
    "    output_layer = tfkl.Dense(units=forecast_length)(x)\n",
    "\n",
    "    # Compile using MSE as loss function and the Adam optimizer\n",
    "    model = tfk.Model(inputs=input_layer, outputs=output_layer, name='LSTM-v3')\n",
    "    model.compile(optimizer='adam', loss='mse')\n",
    "\n",
    "    return model\n",
    "\n",
    "# Build model and display summary\n",
    "model = build_model(input_shape, filters, lstm_units, dropout_rate)\n",
    "model.summary()"
   ]
  },
  {
   "cell_type": "code",
   "execution_count": 7,
   "id": "4aa139c2",
   "metadata": {
    "scrolled": true
   },
   "outputs": [
    {
     "name": "stdout",
     "output_type": "stream",
     "text": [
      "Epoch 1/1000\n"
     ]
    },
    {
     "name": "stderr",
     "output_type": "stream",
     "text": [
      "WARNING: All log messages before absl::InitializeLog() is called are written to STDERR\n",
      "I0000 00:00:1702917853.362473    2413 device_compiler.h:186] Compiled cluster using XLA!  This line is logged at most once for the lifetime of the process.\n"
     ]
    },
    {
     "name": "stdout",
     "output_type": "stream",
     "text": [
      "14641/14641 [==============================] - 163s 10ms/step - loss: 0.0082 - val_loss: 0.1471\n",
      "Epoch 2/1000\n",
      "14641/14641 [==============================] - 152s 10ms/step - loss: 0.0068 - val_loss: 0.0983\n",
      "Epoch 3/1000\n",
      "14641/14641 [==============================] - 148s 10ms/step - loss: 0.0066 - val_loss: 0.0087\n",
      "Epoch 4/1000\n",
      "14641/14641 [==============================] - 150s 10ms/step - loss: 0.0066 - val_loss: 0.0140\n",
      "Epoch 5/1000\n",
      "14641/14641 [==============================] - 153s 10ms/step - loss: 0.0065 - val_loss: 0.0064\n",
      "Epoch 6/1000\n",
      "14641/14641 [==============================] - 149s 10ms/step - loss: 0.0064 - val_loss: 0.0062\n",
      "Epoch 7/1000\n",
      "14641/14641 [==============================] - 153s 10ms/step - loss: 0.0063 - val_loss: 0.0056\n",
      "Epoch 8/1000\n",
      "14641/14641 [==============================] - 149s 10ms/step - loss: 0.0061 - val_loss: 0.0063\n",
      "Epoch 9/1000\n",
      "14641/14641 [==============================] - 153s 10ms/step - loss: 0.0060 - val_loss: 0.0059\n",
      "Epoch 10/1000\n",
      "14641/14641 [==============================] - 148s 10ms/step - loss: 0.0059 - val_loss: 0.0053\n",
      "Epoch 11/1000\n",
      "14641/14641 [==============================] - 150s 10ms/step - loss: 0.0058 - val_loss: 0.0053\n",
      "Epoch 12/1000\n",
      "14641/14641 [==============================] - 152s 10ms/step - loss: 0.0058 - val_loss: 0.0050\n",
      "Epoch 13/1000\n",
      "14641/14641 [==============================] - 151s 10ms/step - loss: 0.0057 - val_loss: 0.0050\n",
      "Epoch 14/1000\n",
      "14641/14641 [==============================] - 149s 10ms/step - loss: 0.0056 - val_loss: 0.0051\n",
      "Epoch 15/1000\n",
      "14641/14641 [==============================] - 150s 10ms/step - loss: 0.0056 - val_loss: 0.0049\n",
      "Epoch 16/1000\n",
      "14641/14641 [==============================] - 152s 10ms/step - loss: 0.0055 - val_loss: 0.0049\n",
      "Epoch 17/1000\n",
      "14641/14641 [==============================] - 153s 10ms/step - loss: 0.0055 - val_loss: 0.0049\n",
      "Epoch 18/1000\n",
      "14641/14641 [==============================] - 149s 10ms/step - loss: 0.0054 - val_loss: 0.0051\n",
      "Epoch 19/1000\n",
      "14641/14641 [==============================] - 151s 10ms/step - loss: 0.0054 - val_loss: 0.0049\n",
      "Epoch 20/1000\n",
      "14641/14641 [==============================] - 150s 10ms/step - loss: 0.0053 - val_loss: 0.0049\n",
      "Epoch 21/1000\n",
      "14641/14641 [==============================] - 152s 10ms/step - loss: 0.0053 - val_loss: 0.0048\n",
      "Epoch 22/1000\n",
      "14641/14641 [==============================] - 149s 10ms/step - loss: 0.0053 - val_loss: 0.0048\n",
      "Epoch 23/1000\n",
      "14641/14641 [==============================] - 149s 10ms/step - loss: 0.0052 - val_loss: 0.0048\n",
      "Epoch 24/1000\n",
      "14641/14641 [==============================] - 150s 10ms/step - loss: 0.0052 - val_loss: 0.0049\n",
      "Epoch 25/1000\n",
      "14641/14641 [==============================] - 151s 10ms/step - loss: 0.0052 - val_loss: 0.0048\n",
      "Epoch 26/1000\n",
      "14641/14641 [==============================] - 151s 10ms/step - loss: 0.0051 - val_loss: 0.0050\n",
      "Epoch 27/1000\n",
      "14641/14641 [==============================] - 150s 10ms/step - loss: 0.0051 - val_loss: 0.0048\n",
      "Epoch 28/1000\n",
      "14641/14641 [==============================] - 148s 10ms/step - loss: 0.0051 - val_loss: 0.0049\n",
      "Epoch 29/1000\n",
      "14641/14641 [==============================] - 149s 10ms/step - loss: 0.0051 - val_loss: 0.0049\n",
      "Epoch 30/1000\n",
      "14641/14641 [==============================] - 150s 10ms/step - loss: 0.0050 - val_loss: 0.0049\n",
      "Epoch 31/1000\n",
      "14641/14641 [==============================] - 149s 10ms/step - loss: 0.0050 - val_loss: 0.0048\n",
      "Epoch 32/1000\n",
      "14641/14641 [==============================] - 151s 10ms/step - loss: 0.0050 - val_loss: 0.0050\n",
      "Epoch 33/1000\n",
      "14641/14641 [==============================] - 152s 10ms/step - loss: 0.0050 - val_loss: 0.0050\n",
      "Epoch 34/1000\n",
      "14641/14641 [==============================] - 150s 10ms/step - loss: 0.0050 - val_loss: 0.0049\n",
      "Epoch 35/1000\n",
      "14641/14641 [==============================] - 150s 10ms/step - loss: 0.0050 - val_loss: 0.0050\n",
      "Epoch 36/1000\n",
      "14641/14641 [==============================] - 150s 10ms/step - loss: 0.0049 - val_loss: 0.0049\n",
      "Epoch 37/1000\n",
      "14641/14641 [==============================] - 147s 10ms/step - loss: 0.0049 - val_loss: 0.0048\n",
      "Epoch 38/1000\n",
      "14641/14641 [==============================] - 150s 10ms/step - loss: 0.0049 - val_loss: 0.0048\n",
      "Epoch 39/1000\n",
      "14641/14641 [==============================] - 148s 10ms/step - loss: 0.0049 - val_loss: 0.0048\n",
      "Epoch 40/1000\n",
      "14641/14641 [==============================] - 149s 10ms/step - loss: 0.0049 - val_loss: 0.0048\n",
      "Epoch 41/1000\n",
      "14641/14641 [==============================] - 150s 10ms/step - loss: 0.0049 - val_loss: 0.0048\n",
      "Val loss (MSE): 0.004765303339809179\n"
     ]
    }
   ],
   "source": [
    "# Stop training when validation loss stops improving, maintain best weights\n",
    "early_stopping = tf.keras.callbacks.EarlyStopping(\n",
    "    monitor='val_loss',\n",
    "    patience=10,         # how many epochs to check for improvement before stopping\n",
    "    restore_best_weights=True,\n",
    ")\n",
    "    \n",
    "# Train model\n",
    "history = model.fit(X_train,\n",
    "                    y_train, \n",
    "                    batch_size=batch_size, \n",
    "                    epochs=epochs, \n",
    "                    validation_data=(X_val, y_val),\n",
    "                    callbacks=early_stopping,\n",
    "                    verbose=1)\n",
    "\n",
    "# Evaluate on validation data\n",
    "val_result = model.evaluate(X_val, y_val, verbose=0)\n",
    "print(f\"Val loss (MSE): {val_result}\")"
   ]
  },
  {
   "cell_type": "code",
   "execution_count": 8,
   "id": "0ed92b56",
   "metadata": {},
   "outputs": [
    {
     "name": "stdout",
     "output_type": "stream",
     "text": [
      "14738/14738 [==============================] - 46s 3ms/step\n",
      "Val loss (MSE) 1h forward: 0.0022687027230858803\n",
      "Val loss (MSE) 2h forward: 0.0030315055046230555\n",
      "Val loss (MSE) 3h forward: 0.003690846497192979\n",
      "Val loss (MSE) 4h forward: 0.004298820625990629\n",
      "Val loss (MSE) 5h forward: 0.0048605757765471935\n",
      "Val loss (MSE) 6h forward: 0.005395767744630575\n",
      "Val loss (MSE) 7h forward: 0.00594463711604476\n",
      "Val loss (MSE) 8h forward: 0.006454979069530964\n",
      "Val loss (MSE) 9h forward: 0.006941896863281727\n"
     ]
    }
   ],
   "source": [
    "# Val loss for each prediction step\n",
    "y_pred = model.predict(X_val)\n",
    "for t in range(forecast_length):\n",
    "    m = tf.keras.metrics.MeanSquaredError()\n",
    "    m.update_state(y_val[:, t], y_pred[:, t])\n",
    "    print(f'Val loss (MSE) {t+1}h forward: {m.result().numpy()}')"
   ]
  },
  {
   "cell_type": "code",
   "execution_count": 9,
   "id": "aa188880",
   "metadata": {},
   "outputs": [
    {
     "name": "stdout",
     "output_type": "stream",
     "text": [
      "INFO:tensorflow:Assets written to: LSTM_v3/assets\n"
     ]
    },
    {
     "name": "stderr",
     "output_type": "stream",
     "text": [
      "INFO:tensorflow:Assets written to: LSTM_v3/assets\n"
     ]
    }
   ],
   "source": [
    "# save model\n",
    "model.save('LSTM_v3')"
   ]
  },
  {
   "cell_type": "code",
   "execution_count": null,
   "id": "1293b65d",
   "metadata": {},
   "outputs": [],
   "source": []
  }
 ],
 "metadata": {
  "kernelspec": {
   "display_name": "Python 3 (ipykernel)",
   "language": "python",
   "name": "python3"
  },
  "language_info": {
   "codemirror_mode": {
    "name": "ipython",
    "version": 3
   },
   "file_extension": ".py",
   "mimetype": "text/x-python",
   "name": "python",
   "nbconvert_exporter": "python",
   "pygments_lexer": "ipython3",
   "version": "3.11.5"
  }
 },
 "nbformat": 4,
 "nbformat_minor": 5
}
