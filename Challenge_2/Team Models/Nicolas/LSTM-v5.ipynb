{
 "cells": [
  {
   "cell_type": "markdown",
   "id": "b72a895f",
   "metadata": {},
   "source": [
    "### Imports"
   ]
  },
  {
   "cell_type": "code",
   "execution_count": 1,
   "id": "65a98672",
   "metadata": {},
   "outputs": [
    {
     "name": "stdout",
     "output_type": "stream",
     "text": [
      "<module 'tensorflow._api.v2.version' from '/home/zyzz/anaconda3/lib/python3.11/site-packages/tensorflow/_api/v2/version/__init__.py'>\n",
      "[PhysicalDevice(name='/physical_device:GPU:0', device_type='GPU')]\n"
     ]
    }
   ],
   "source": [
    "import os\n",
    "import numpy as np\n",
    "import random\n",
    "import joblib\n",
    "import matplotlib.pyplot as plt\n",
    "\n",
    "import warnings\n",
    "warnings.filterwarnings('ignore') \n",
    "os.environ['TF_CPP_MIN_LOG_LEVEL'] = '3' # hopefully nothing explodes\n",
    "\n",
    "import tensorflow as tf\n",
    "from tensorflow import keras as tfk\n",
    "from tensorflow.keras import layers as tfkl\n",
    "print(tf.version)\n",
    "print(tf.config.list_physical_devices('GPU'))"
   ]
  },
  {
   "cell_type": "code",
   "execution_count": 2,
   "id": "7890573b",
   "metadata": {},
   "outputs": [],
   "source": [
    "# For reproducible results\n",
    "seed = 42\n",
    "os.environ['PYTHONHASHSEED']=str(seed)\n",
    "random.seed(seed)\n",
    "np.random.seed(seed)\n",
    "tf.random.set_seed(seed)  "
   ]
  },
  {
   "cell_type": "markdown",
   "id": "a958bf2e",
   "metadata": {},
   "source": [
    "## Data"
   ]
  },
  {
   "cell_type": "code",
   "execution_count": 3,
   "id": "19828e38",
   "metadata": {},
   "outputs": [],
   "source": [
    "# Constants\n",
    "val_size = 0.2\n",
    "data_path = 'training_dataset'\n",
    "seq_length = 128     # predictions based on previous seq_length data entries\n",
    "forecast_length = 9  # predicting forecast_length time steps into the future\n",
    "sample_length = seq_length + forecast_length"
   ]
  },
  {
   "cell_type": "code",
   "execution_count": 4,
   "id": "7d947d0e",
   "metadata": {
    "scrolled": true
   },
   "outputs": [
    {
     "name": "stdout",
     "output_type": "stream",
     "text": [
      "(48000,) (48000, 2776) (48000, 2)\n"
     ]
    }
   ],
   "source": [
    "# Read data\n",
    "categories = np.load(os.path.join(data_path, 'categories.npy'))\n",
    "training_data = np.load(os.path.join(data_path, 'training_data.npy'))\n",
    "valid_periods = np.load(os.path.join(data_path, 'valid_periods.npy'))\n",
    "\n",
    "print(categories.shape, training_data.shape, valid_periods.shape)"
   ]
  },
  {
   "cell_type": "code",
   "execution_count": 5,
   "id": "a8f673be",
   "metadata": {},
   "outputs": [
    {
     "name": "stdout",
     "output_type": "stream",
     "text": [
      "A: 5728, B: 10987, C: 10017, D: 10016, E: 10975, F: 277\n"
     ]
    }
   ],
   "source": [
    "# Create a dictionary mapping each category to corresponding data\n",
    "data = {category: [] for category in np.unique(categories)}\n",
    "for i, time_series in enumerate(training_data):\n",
    "    data[categories[i]].append(time_series[valid_periods[i][0]:valid_periods[i][1]])\n",
    "\n",
    "# Print amount of time series for each category\n",
    "formatted_strings = [f\"{category}: {len(time_series_list)}\" for category, time_series_list in data.items()]\n",
    "print(\", \".join(formatted_strings))"
   ]
  },
  {
   "cell_type": "code",
   "execution_count": 6,
   "id": "3207e6e7",
   "metadata": {
    "scrolled": false
   },
   "outputs": [],
   "source": [
    "# Convert time series to {x: sequences of length seq_length, y: values to be predicted from previous sequence}\n",
    "def to_sequences(time_series):\n",
    "    \n",
    "    x = []\n",
    "    y = []\n",
    "    \n",
    "    for i in range(time_series.shape[0]-seq_length-forecast_length+1):\n",
    "        x.append(time_series[i:i+seq_length])\n",
    "        y.append(time_series[i+seq_length:i+seq_length+forecast_length])  \n",
    "    \n",
    "    x = np.array(x)\n",
    "    y = np.array(y)\n",
    "    \n",
    "    return {'x': x, 'y': y}"
   ]
  },
  {
   "cell_type": "code",
   "execution_count": 7,
   "id": "a8b3153e",
   "metadata": {},
   "outputs": [
    {
     "name": "stdout",
     "output_type": "stream",
     "text": [
      "A :  (661911, 128, 1) (161525, 128, 1) (661911, 9, 1) (161525, 9, 1)\n",
      "B :  (525289, 128, 1) (130754, 128, 1) (525289, 9, 1) (130754, 9, 1)\n",
      "C :  (729993, 128, 1) (184536, 128, 1) (729993, 9, 1) (184536, 9, 1)\n",
      "D :  (860625, 128, 1) (211567, 128, 1) (860625, 9, 1) (211567, 9, 1)\n",
      "E :  (586833, 128, 1) (144234, 128, 1) (586833, 9, 1) (144234, 9, 1)\n",
      "F :  (17665, 128, 1) (5476, 128, 1) (17665, 9, 1) (5476, 9, 1)\n"
     ]
    }
   ],
   "source": [
    "for category in data.keys():\n",
    "    \n",
    "    # Shuffle the lists of time series (we don't want to make any assumptions about the order)\n",
    "    random.shuffle(data[category])\n",
    "    \n",
    "    # Build sequences from the time series\n",
    "    X, y = [], []\n",
    "    for i, time_series in enumerate(data[category]): \n",
    "        if (len(time_series) >= sample_length): # assert we can draw at least one sample from the time_series\n",
    "            sequences = to_sequences(time_series)\n",
    "            X.append(sequences['x']) \n",
    "            y.append(sequences['y'])   \n",
    "\n",
    "    # Build our data sets                \n",
    "    # Note: there is no overlap between train and validation; each processed time series is used in train xor val    \n",
    "    split_index = int((1-val_size)*len(X))\n",
    "    X_train = np.concatenate(X[0:split_index], axis=0)\n",
    "    X_val = np.concatenate(X[split_index:], axis=0)\n",
    "    y_train = np.concatenate(y[0:split_index], axis=0)\n",
    "    y_val = np.concatenate(y[split_index:], axis=0)\n",
    "    \n",
    "    # Apply robust scaling (fit only to training data to avoid bias)\n",
    "    rscaler_X = joblib.load('LSTM_v4/rscaler_X.save')\n",
    "    rscaler_y = joblib.load('LSTM_v4/rscaler_y.save')\n",
    "    X_train = rscaler_X.transform(X_train)\n",
    "    X_val = rscaler_X.transform(X_val)\n",
    "    y_train = rscaler_y.transform(y_train)\n",
    "    y_val = rscaler_y.transform(y_val)\n",
    "\n",
    "    # Add the time dimension to the data sets\n",
    "    X_train = X_train.reshape((-1, seq_length, 1))\n",
    "    X_val = X_val.reshape((-1, seq_length, 1))                      \n",
    "    y_train = y_train.reshape((-1, forecast_length, 1)) \n",
    "    y_val = y_val.reshape((-1, forecast_length, 1))   \n",
    "    print(category, ': ', X_train.shape, X_val.shape, y_train.shape, y_val.shape)\n",
    "     \n",
    "    # Replace the list of time series with a dictionary with the data sets\n",
    "    data[category] = {'X_train': X_train, 'X_val': X_val, 'y_train': y_train, 'y_val': y_val}"
   ]
  },
  {
   "cell_type": "markdown",
   "id": "1c27e38d",
   "metadata": {},
   "source": [
    "## ML"
   ]
  },
  {
   "cell_type": "code",
   "execution_count": 8,
   "id": "4aa139c2",
   "metadata": {
    "scrolled": true
   },
   "outputs": [
    {
     "name": "stdout",
     "output_type": "stream",
     "text": [
      "Training model for CATEGORY A...\n",
      "Epoch 1/1000\n"
     ]
    },
    {
     "name": "stderr",
     "output_type": "stream",
     "text": [
      "WARNING: All log messages before absl::InitializeLog() is called are written to STDERR\n",
      "I0000 00:00:1703205112.089337     780 device_compiler.h:186] Compiled cluster using XLA!  This line is logged at most once for the lifetime of the process.\n"
     ]
    },
    {
     "name": "stdout",
     "output_type": "stream",
     "text": [
      "5172/5172 [==============================] - 120s 22ms/step - loss: 0.0376 - val_loss: 0.0316\n",
      "Epoch 2/1000\n",
      "5172/5172 [==============================] - 111s 21ms/step - loss: 0.0364 - val_loss: 0.0316\n",
      "Epoch 3/1000\n",
      "5172/5172 [==============================] - 111s 21ms/step - loss: 0.0357 - val_loss: 0.0314\n",
      "Epoch 4/1000\n",
      "5172/5172 [==============================] - 111s 21ms/step - loss: 0.0352 - val_loss: 0.0321\n",
      "Epoch 5/1000\n",
      "5172/5172 [==============================] - 109s 21ms/step - loss: 0.0362 - val_loss: 0.0337\n",
      "Epoch 6/1000\n",
      "5172/5172 [==============================] - 109s 21ms/step - loss: 0.0371 - val_loss: 0.0341\n",
      "Epoch 7/1000\n",
      "5172/5172 [==============================] - 110s 21ms/step - loss: 0.0377 - val_loss: 0.0342\n",
      "Epoch 8/1000\n",
      "5172/5172 [==============================] - 110s 21ms/step - loss: 0.0368 - val_loss: 0.0350\n",
      "Epoch 9/1000\n",
      "5172/5172 [==============================] - 109s 21ms/step - loss: 0.0367 - val_loss: 0.0338\n",
      "Epoch 10/1000\n",
      "5172/5172 [==============================] - 109s 21ms/step - loss: 0.0377 - val_loss: 0.0382\n",
      "Epoch 11/1000\n",
      "5172/5172 [==============================] - 108s 21ms/step - loss: 0.0425 - val_loss: 0.0383\n",
      "Epoch 12/1000\n",
      "5172/5172 [==============================] - 111s 22ms/step - loss: 0.0441 - val_loss: 0.0374\n",
      "Epoch 13/1000\n",
      "5172/5172 [==============================] - 110s 21ms/step - loss: 0.0414 - val_loss: 0.0372\n",
      "INFO:tensorflow:Assets written to: LSTM_v5/A/assets\n"
     ]
    },
    {
     "name": "stderr",
     "output_type": "stream",
     "text": [
      "INFO:tensorflow:Assets written to: LSTM_v5/A/assets\n"
     ]
    },
    {
     "name": "stdout",
     "output_type": "stream",
     "text": [
      "5048/5048 [==============================] - 36s 7ms/step\n",
      "Training model for CATEGORY B...\n",
      "Epoch 1/1000\n",
      "4104/4104 [==============================] - 93s 21ms/step - loss: 0.0412 - val_loss: 0.0379\n",
      "Epoch 2/1000\n",
      "4104/4104 [==============================] - 88s 21ms/step - loss: 0.0401 - val_loss: 0.0381\n",
      "Epoch 3/1000\n",
      "4104/4104 [==============================] - 87s 21ms/step - loss: 0.0392 - val_loss: 0.0378\n",
      "Epoch 4/1000\n",
      "4104/4104 [==============================] - 87s 21ms/step - loss: 0.0391 - val_loss: 0.0388\n",
      "Epoch 5/1000\n",
      "4104/4104 [==============================] - 86s 21ms/step - loss: 0.0382 - val_loss: 0.0403\n",
      "Epoch 6/1000\n",
      "4104/4104 [==============================] - 85s 21ms/step - loss: 0.0378 - val_loss: 0.0407\n",
      "Epoch 7/1000\n",
      "4104/4104 [==============================] - 87s 21ms/step - loss: 0.0373 - val_loss: 0.0383\n",
      "Epoch 8/1000\n",
      "4104/4104 [==============================] - 89s 22ms/step - loss: 0.0374 - val_loss: 0.0390\n",
      "Epoch 9/1000\n",
      "4104/4104 [==============================] - 86s 21ms/step - loss: 0.0381 - val_loss: 0.0384\n",
      "Epoch 10/1000\n",
      "4104/4104 [==============================] - 86s 21ms/step - loss: 0.0362 - val_loss: 0.0384\n",
      "Epoch 11/1000\n",
      "4104/4104 [==============================] - 88s 21ms/step - loss: 0.0359 - val_loss: 0.0392\n",
      "Epoch 12/1000\n",
      "4104/4104 [==============================] - 87s 21ms/step - loss: 0.0356 - val_loss: 0.0403\n",
      "Epoch 13/1000\n",
      "4104/4104 [==============================] - 86s 21ms/step - loss: 0.0352 - val_loss: 0.0393\n",
      "INFO:tensorflow:Assets written to: LSTM_v5/B/assets\n"
     ]
    },
    {
     "name": "stderr",
     "output_type": "stream",
     "text": [
      "INFO:tensorflow:Assets written to: LSTM_v5/B/assets\n"
     ]
    },
    {
     "name": "stdout",
     "output_type": "stream",
     "text": [
      "4087/4087 [==============================] - 28s 7ms/step\n",
      "Training model for CATEGORY C...\n",
      "Epoch 1/1000\n",
      "5704/5704 [==============================] - 129s 22ms/step - loss: 0.0356 - val_loss: 0.0281\n",
      "Epoch 2/1000\n",
      "5704/5704 [==============================] - 122s 21ms/step - loss: 0.0349 - val_loss: 0.0284\n",
      "Epoch 3/1000\n",
      "5704/5704 [==============================] - 121s 21ms/step - loss: 0.0344 - val_loss: 0.0286\n",
      "Epoch 4/1000\n",
      "5704/5704 [==============================] - 121s 21ms/step - loss: 0.0342 - val_loss: 0.0296\n",
      "Epoch 5/1000\n",
      "5704/5704 [==============================] - 120s 21ms/step - loss: 0.0337 - val_loss: 0.0286\n",
      "Epoch 6/1000\n",
      "5704/5704 [==============================] - 122s 21ms/step - loss: 0.0331 - val_loss: 0.0288\n",
      "Epoch 7/1000\n",
      "5704/5704 [==============================] - 121s 21ms/step - loss: 0.0328 - val_loss: 0.0289\n",
      "Epoch 8/1000\n",
      "5704/5704 [==============================] - 121s 21ms/step - loss: 0.0324 - val_loss: 0.0305\n",
      "Epoch 9/1000\n",
      "5704/5704 [==============================] - 122s 21ms/step - loss: 0.0320 - val_loss: 0.0299\n",
      "Epoch 10/1000\n",
      "5704/5704 [==============================] - 122s 21ms/step - loss: 0.0352 - val_loss: 0.0295\n",
      "Epoch 11/1000\n",
      "5704/5704 [==============================] - 121s 21ms/step - loss: 0.0327 - val_loss: 0.0287\n",
      "INFO:tensorflow:Assets written to: LSTM_v5/C/assets\n"
     ]
    },
    {
     "name": "stderr",
     "output_type": "stream",
     "text": [
      "INFO:tensorflow:Assets written to: LSTM_v5/C/assets\n"
     ]
    },
    {
     "name": "stdout",
     "output_type": "stream",
     "text": [
      "5767/5767 [==============================] - 41s 7ms/step\n",
      "Training model for CATEGORY D...\n",
      "Epoch 1/1000\n",
      "6724/6724 [==============================] - 150s 21ms/step - loss: 0.0388 - val_loss: 0.0307\n",
      "Epoch 2/1000\n",
      "6724/6724 [==============================] - 141s 21ms/step - loss: 0.0381 - val_loss: 0.0314\n",
      "Epoch 3/1000\n",
      "6724/6724 [==============================] - 140s 21ms/step - loss: 0.0395 - val_loss: 0.0321\n",
      "Epoch 4/1000\n",
      "6724/6724 [==============================] - 140s 21ms/step - loss: 0.0379 - val_loss: 0.0305\n",
      "Epoch 5/1000\n",
      "6724/6724 [==============================] - 141s 21ms/step - loss: 0.0367 - val_loss: 0.0305\n",
      "Epoch 6/1000\n",
      "6724/6724 [==============================] - 141s 21ms/step - loss: 0.0363 - val_loss: 0.0310\n",
      "Epoch 7/1000\n",
      "6724/6724 [==============================] - 141s 21ms/step - loss: 0.0359 - val_loss: 0.0309\n",
      "Epoch 8/1000\n",
      "6724/6724 [==============================] - 142s 21ms/step - loss: 0.0356 - val_loss: 0.0312\n",
      "Epoch 9/1000\n",
      "6724/6724 [==============================] - 142s 21ms/step - loss: 0.0351 - val_loss: 0.0307\n",
      "Epoch 10/1000\n",
      "6724/6724 [==============================] - 142s 21ms/step - loss: 0.0348 - val_loss: 0.0307\n",
      "Epoch 11/1000\n",
      "6724/6724 [==============================] - 141s 21ms/step - loss: 0.0345 - val_loss: 0.0306\n",
      "Epoch 12/1000\n",
      "6724/6724 [==============================] - 144s 21ms/step - loss: 0.0342 - val_loss: 0.0306\n",
      "Epoch 13/1000\n",
      "6724/6724 [==============================] - 142s 21ms/step - loss: 0.0341 - val_loss: 0.0311\n",
      "Epoch 14/1000\n",
      "6724/6724 [==============================] - 143s 21ms/step - loss: 0.0337 - val_loss: 0.0306\n",
      "INFO:tensorflow:Assets written to: LSTM_v5/D/assets\n"
     ]
    },
    {
     "name": "stderr",
     "output_type": "stream",
     "text": [
      "INFO:tensorflow:Assets written to: LSTM_v5/D/assets\n"
     ]
    },
    {
     "name": "stdout",
     "output_type": "stream",
     "text": [
      "6612/6612 [==============================] - 45s 7ms/step\n",
      "Training model for CATEGORY E...\n",
      "Epoch 1/1000\n",
      "4585/4585 [==============================] - 104s 22ms/step - loss: 0.0336 - val_loss: 0.0280\n",
      "Epoch 2/1000\n",
      "4585/4585 [==============================] - 99s 22ms/step - loss: 0.0326 - val_loss: 0.0284\n",
      "Epoch 3/1000\n",
      "4585/4585 [==============================] - 97s 21ms/step - loss: 0.0319 - val_loss: 0.0293\n",
      "Epoch 4/1000\n",
      "4585/4585 [==============================] - 97s 21ms/step - loss: 0.0314 - val_loss: 0.0274\n",
      "Epoch 5/1000\n",
      "4585/4585 [==============================] - 97s 21ms/step - loss: 0.0314 - val_loss: 0.0288\n",
      "Epoch 6/1000\n",
      "4585/4585 [==============================] - 96s 21ms/step - loss: 0.0306 - val_loss: 0.0284\n",
      "Epoch 7/1000\n",
      "4585/4585 [==============================] - 98s 21ms/step - loss: 0.0301 - val_loss: 0.0275\n",
      "Epoch 8/1000\n",
      "4585/4585 [==============================] - 98s 21ms/step - loss: 0.0297 - val_loss: 0.0277\n",
      "Epoch 9/1000\n",
      "4585/4585 [==============================] - 100s 22ms/step - loss: 0.0295 - val_loss: 0.0277\n",
      "Epoch 10/1000\n",
      "4585/4585 [==============================] - 100s 22ms/step - loss: 0.0292 - val_loss: 0.0280\n",
      "Epoch 11/1000\n",
      "4585/4585 [==============================] - 97s 21ms/step - loss: 0.0290 - val_loss: 0.0283\n",
      "Epoch 12/1000\n",
      "4585/4585 [==============================] - 98s 21ms/step - loss: 0.0285 - val_loss: 0.0288\n",
      "Epoch 13/1000\n",
      "4585/4585 [==============================] - 98s 21ms/step - loss: 0.0281 - val_loss: 0.0290\n",
      "Epoch 14/1000\n",
      "4585/4585 [==============================] - 98s 21ms/step - loss: 0.0281 - val_loss: 0.0276\n",
      "INFO:tensorflow:Assets written to: LSTM_v5/E/assets\n"
     ]
    },
    {
     "name": "stderr",
     "output_type": "stream",
     "text": [
      "INFO:tensorflow:Assets written to: LSTM_v5/E/assets\n"
     ]
    },
    {
     "name": "stdout",
     "output_type": "stream",
     "text": [
      "4508/4508 [==============================] - 31s 7ms/step\n",
      "Training model for CATEGORY F...\n",
      "Epoch 1/1000\n",
      "139/139 [==============================] - 9s 30ms/step - loss: 0.0302 - val_loss: 0.0248\n",
      "Epoch 2/1000\n",
      "139/139 [==============================] - 3s 22ms/step - loss: 0.0257 - val_loss: 0.0215\n",
      "Epoch 3/1000\n",
      "139/139 [==============================] - 3s 22ms/step - loss: 0.0238 - val_loss: 0.0237\n",
      "Epoch 4/1000\n",
      "139/139 [==============================] - 3s 22ms/step - loss: 0.0227 - val_loss: 0.0216\n",
      "Epoch 5/1000\n",
      "139/139 [==============================] - 3s 22ms/step - loss: 0.0208 - val_loss: 0.0219\n",
      "Epoch 6/1000\n",
      "139/139 [==============================] - 3s 22ms/step - loss: 0.0215 - val_loss: 0.0210\n",
      "Epoch 7/1000\n",
      "139/139 [==============================] - 3s 21ms/step - loss: 0.0268 - val_loss: 0.0264\n",
      "Epoch 8/1000\n",
      "139/139 [==============================] - 3s 22ms/step - loss: 0.0272 - val_loss: 0.0254\n",
      "Epoch 9/1000\n",
      "139/139 [==============================] - 3s 22ms/step - loss: 0.0260 - val_loss: 0.0242\n",
      "Epoch 10/1000\n",
      "139/139 [==============================] - 3s 21ms/step - loss: 0.0245 - val_loss: 0.0262\n",
      "Epoch 11/1000\n",
      "139/139 [==============================] - 3s 21ms/step - loss: 0.0237 - val_loss: 0.0238\n",
      "Epoch 12/1000\n",
      "139/139 [==============================] - 3s 22ms/step - loss: 0.0235 - val_loss: 0.0257\n",
      "Epoch 13/1000\n",
      "139/139 [==============================] - 3s 21ms/step - loss: 0.0229 - val_loss: 0.0255\n",
      "Epoch 14/1000\n",
      "139/139 [==============================] - 3s 22ms/step - loss: 0.0221 - val_loss: 0.0227\n",
      "Epoch 15/1000\n",
      "139/139 [==============================] - 3s 22ms/step - loss: 0.0213 - val_loss: 0.0234\n",
      "Epoch 16/1000\n",
      "139/139 [==============================] - 3s 21ms/step - loss: 0.0216 - val_loss: 0.0244\n",
      "INFO:tensorflow:Assets written to: LSTM_v5/F/assets\n"
     ]
    },
    {
     "name": "stderr",
     "output_type": "stream",
     "text": [
      "INFO:tensorflow:Assets written to: LSTM_v5/F/assets\n"
     ]
    },
    {
     "name": "stdout",
     "output_type": "stream",
     "text": [
      "172/172 [==============================] - 2s 8ms/step\n"
     ]
    }
   ],
   "source": [
    "# Constants\n",
    "batch_size = 128\n",
    "epochs = 1000\n",
    "\n",
    "# Stop training when validation loss stops improving, maintain best weights\n",
    "early_stopping = tf.keras.callbacks.EarlyStopping(\n",
    "    monitor='val_loss',\n",
    "    patience=10,         # how many epochs to check for improvement before stopping\n",
    "    restore_best_weights=True,\n",
    ")\n",
    "    \n",
    "final_val_losses = {}\n",
    "final_val_losses_per_step = {}\n",
    "\n",
    "for category in data.keys():\n",
    "    print(f\"Training model for CATEGORY {category}...\")\n",
    "    \n",
    "    # Load model trained on all data\n",
    "    model = tfk.models.load_model('LSTM_v4/model')\n",
    "    model.compile(optimizer='adam', loss='mse')\n",
    "    \n",
    "    # \"Transfer learning\"\n",
    "    history = model.fit(data[category]['X_train'],\n",
    "                        data[category]['y_train'], \n",
    "                        batch_size=batch_size, \n",
    "                        epochs=epochs, \n",
    "                        validation_data=(data[category]['X_val'], data[category]['y_val']),\n",
    "                        callbacks=early_stopping,\n",
    "                        verbose=1)\n",
    "    \n",
    "    # Save model\n",
    "    model.save(os.path.join('LSTM_v5', category))\n",
    "    \n",
    "    # Evaluate on original validation data \n",
    "    y_val_org = rscaler_y.inverse_transform(data[category]['y_val'].reshape((-1, forecast_length)))\n",
    "    y_pred = model.predict(data[category]['X_val'])\n",
    "    y_pred_iscaled = rscaler_y.inverse_transform(y_pred.reshape((-1, forecast_length)))\n",
    "    mse = tfk.losses.MeanSquaredError()\n",
    "    final_val_losses[category] = mse(y_val_org, y_pred_iscaled).numpy()\n",
    "       \n",
    "    # Val loss for each prediction step\n",
    "    final_val_losses_per_step[category] = []\n",
    "    for t in range(forecast_length):\n",
    "        mse = tfk.metrics.MeanSquaredError()\n",
    "        mse.update_state(y_val_org[:, t], y_pred_iscaled[:, t])\n",
    "        final_val_losses_per_step[category].append(mse.result().numpy())"
   ]
  },
  {
   "cell_type": "code",
   "execution_count": 9,
   "id": "0ed92b56",
   "metadata": {},
   "outputs": [
    {
     "name": "stdout",
     "output_type": "stream",
     "text": [
      "Category A val MSE: 0.005164689384400845\n",
      "Val MSE per step: [0.0024824727, 0.0034169152, 0.0041555474, 0.004824764, 0.00535913, 0.0058594467, 0.0063155144, 0.006822516, 0.007245894]\n",
      "\n",
      "Category B val MSE: 0.006230644881725311\n",
      "Val MSE per step: [0.00309717, 0.0040435004, 0.004834892, 0.005655216, 0.006334659, 0.0070043067, 0.007676845, 0.008366125, 0.009063091]\n",
      "\n",
      "Category C val MSE: 0.004625280387699604\n",
      "Val MSE per step: [0.0020232128, 0.0027910173, 0.003524516, 0.0041232198, 0.004710779, 0.0052975304, 0.0058630677, 0.006356482, 0.006937697]\n",
      "\n",
      "Category D val MSE: 0.005008918698877096\n",
      "Val MSE per step: [0.0028908388, 0.0035152617, 0.0040775607, 0.004632967, 0.005087474, 0.0055332016, 0.0060181683, 0.0064534172, 0.0068713804]\n",
      "\n",
      "Category E val MSE: 0.004516208078712225\n",
      "Val MSE per step: [0.0020334437, 0.0028191747, 0.0034218228, 0.0040717577, 0.004572788, 0.0051004975, 0.005668595, 0.0061783274, 0.0067794626]\n",
      "\n",
      "Category F val MSE: 0.003445324255153537\n",
      "Val MSE per step: [0.0013405962, 0.0020186729, 0.0025358887, 0.0030703552, 0.0035782007, 0.004029896, 0.004458091, 0.0048253895, 0.005150826]\n",
      "\n"
     ]
    }
   ],
   "source": [
    "# Print stats for each model \n",
    "for category in data.keys():    \n",
    "    print(f\"Category {category} val MSE: {final_val_losses[category]}\")\n",
    "    print(f\"Val MSE per step: {final_val_losses_per_step[category]}\")\n",
    "    print()"
   ]
  },
  {
   "cell_type": "code",
   "execution_count": 10,
   "id": "5d01b4cf",
   "metadata": {},
   "outputs": [
    {
     "name": "stdout",
     "output_type": "stream",
     "text": [
      "Avg val MSE: 0.00483184428109477\n"
     ]
    }
   ],
   "source": [
    "# Print average val loss\n",
    "print(f\"Avg val MSE: {sum(final_val_losses.values())/len(data.keys())}\")"
   ]
  },
  {
   "cell_type": "code",
   "execution_count": null,
   "id": "d5e85e60",
   "metadata": {},
   "outputs": [],
   "source": []
  }
 ],
 "metadata": {
  "kernelspec": {
   "display_name": "Python 3 (ipykernel)",
   "language": "python",
   "name": "python3"
  },
  "language_info": {
   "codemirror_mode": {
    "name": "ipython",
    "version": 3
   },
   "file_extension": ".py",
   "mimetype": "text/x-python",
   "name": "python",
   "nbconvert_exporter": "python",
   "pygments_lexer": "ipython3",
   "version": "3.11.5"
  }
 },
 "nbformat": 4,
 "nbformat_minor": 5
}
