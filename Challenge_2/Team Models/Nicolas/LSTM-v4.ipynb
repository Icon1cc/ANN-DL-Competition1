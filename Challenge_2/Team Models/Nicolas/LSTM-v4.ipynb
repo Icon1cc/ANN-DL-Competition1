{
 "cells": [
  {
   "cell_type": "markdown",
   "id": "b72a895f",
   "metadata": {},
   "source": [
    "### Imports"
   ]
  },
  {
   "cell_type": "code",
   "execution_count": 1,
   "id": "65a98672",
   "metadata": {},
   "outputs": [
    {
     "name": "stdout",
     "output_type": "stream",
     "text": [
      "<module 'tensorflow._api.v2.version' from '/home/zyzz/anaconda3/lib/python3.11/site-packages/tensorflow/_api/v2/version/__init__.py'>\n",
      "[PhysicalDevice(name='/physical_device:GPU:0', device_type='GPU')]\n"
     ]
    }
   ],
   "source": [
    "import os\n",
    "import joblib\n",
    "import numpy as np\n",
    "import random\n",
    "import matplotlib.pyplot as plt\n",
    "from sklearn.preprocessing import RobustScaler\n",
    "\n",
    "import warnings\n",
    "warnings.filterwarnings('ignore') \n",
    "os.environ['TF_CPP_MIN_LOG_LEVEL'] = '3' # hopefully nothing explodes\n",
    "\n",
    "import tensorflow as tf\n",
    "from tensorflow import keras as tfk\n",
    "from tensorflow.keras import layers as tfkl\n",
    "print(tf.version)\n",
    "print(tf.config.list_physical_devices('GPU'))"
   ]
  },
  {
   "cell_type": "code",
   "execution_count": 2,
   "id": "7890573b",
   "metadata": {},
   "outputs": [],
   "source": [
    "# For reproducible results\n",
    "seed = 42\n",
    "os.environ['PYTHONHASHSEED']=str(seed)\n",
    "random.seed(seed)\n",
    "np.random.seed(seed)\n",
    "tf.random.set_seed(seed)  "
   ]
  },
  {
   "cell_type": "markdown",
   "id": "a958bf2e",
   "metadata": {},
   "source": [
    "## Data"
   ]
  },
  {
   "cell_type": "code",
   "execution_count": 3,
   "id": "19828e38",
   "metadata": {},
   "outputs": [],
   "source": [
    "# Constants\n",
    "val_size = 0.2\n",
    "model_path = 'LSTM_v4'\n",
    "data_path = 'training_dataset'\n",
    "seq_length = 128     # predictions based on previous seq_length data entries\n",
    "forecast_length = 9  # predicting forecast_length time steps into the future\n",
    "sample_length = seq_length + forecast_length"
   ]
  },
  {
   "cell_type": "code",
   "execution_count": 4,
   "id": "7d947d0e",
   "metadata": {
    "scrolled": true
   },
   "outputs": [
    {
     "name": "stdout",
     "output_type": "stream",
     "text": [
      "(48000, -) (48000, 2)\n"
     ]
    }
   ],
   "source": [
    "# Read data (ignore categories)\n",
    "training_data = np.load(os.path.join(data_path, 'training_data.npy'))\n",
    "valid_periods = np.load(os.path.join(data_path, 'valid_periods.npy'))\n",
    "\n",
    "# Filter out unvalid data\n",
    "data = []\n",
    "for i, row in enumerate(training_data):\n",
    "    data.append(row[valid_periods[i][0]:valid_periods[i][1]])\n",
    "\n",
    "print(f\"({len(data)}, -)\", valid_periods.shape)"
   ]
  },
  {
   "cell_type": "code",
   "execution_count": 5,
   "id": "3207e6e7",
   "metadata": {
    "scrolled": false
   },
   "outputs": [
    {
     "name": "stdout",
     "output_type": "stream",
     "text": [
      "(3373049, 128) (847359, 128) (3373049, 9) (847359, 9)\n"
     ]
    }
   ],
   "source": [
    "# Convert time series to {x: sequences of length seq_length, y: values to be predicted from previous sequence}\n",
    "def to_sequences(time_series):\n",
    "    \n",
    "    x = []\n",
    "    y = []\n",
    "    \n",
    "    for i in range(time_series.shape[0]-seq_length-forecast_length+1):\n",
    "        x.append(time_series[i:i+seq_length])\n",
    "        y.append(time_series[i+seq_length:i+seq_length+forecast_length])  \n",
    "    \n",
    "    x = np.array(x)\n",
    "    y = np.array(y)\n",
    "    \n",
    "    return {'x': x, 'y': y}\n",
    "\n",
    "# Shuffle data (we don't want to make any assumptions about the order)\n",
    "np.random.shuffle(data)\n",
    " \n",
    "# Build sequences from the non-correlated time series, and append them to corresponding data set\n",
    "# Note: there is no overlap between train and validation; each processed time series is used in train xor val\n",
    "X_train, X_val = [], []\n",
    "y_train, y_val = [], []\n",
    "split_index = int((1-val_size)*len(data))\n",
    "for i, time_series in enumerate(data): \n",
    "    if (len(time_series) >= sample_length): # assert we can draw at least one sample from the time_series\n",
    "        sequences = to_sequences(time_series)\n",
    "        if(i < split_index):\n",
    "            X_train.append(sequences['x']) \n",
    "            y_train.append(sequences['y'])   \n",
    "        else:\n",
    "            X_val.append(sequences['x']) \n",
    "            y_val.append(sequences['y'])  \n",
    "\n",
    "# Convert lists to nparrays \n",
    "X_train = np.concatenate(X_train, axis=0)\n",
    "X_val = np.concatenate(X_val, axis=0)\n",
    "y_train = np.concatenate(y_train, axis=0)\n",
    "y_val = np.concatenate(y_val, axis=0)\n",
    "print(X_train.shape, X_val.shape, y_train.shape, y_val.shape)"
   ]
  },
  {
   "cell_type": "code",
   "execution_count": 6,
   "id": "847f36ac",
   "metadata": {},
   "outputs": [
    {
     "name": "stdout",
     "output_type": "stream",
     "text": [
      "(3373049, 128, 1) (847359, 128, 1) (3373049, 9, 1) (847359, 9, 1)\n"
     ]
    }
   ],
   "source": [
    "# Apply robust scaling (fit only to training data to avoid bias)\n",
    "rscaler_X = RobustScaler().fit(X_train)\n",
    "rscaler_y = RobustScaler().fit(y_train)\n",
    "X_train = rscaler_X.transform(X_train)\n",
    "X_val = rscaler_X.transform(X_val)\n",
    "y_train = rscaler_y.transform(y_train)\n",
    "y_val = rscaler_y.transform(y_val)\n",
    "\n",
    "# Save scalers\n",
    "joblib.dump(rscaler_X, os.path.join(model_path, 'rscaler_X.save'))\n",
    "joblib.dump(rscaler_y, os.path.join(model_path, 'rscaler_y.save'))\n",
    "\n",
    "# Add the time dimension to the data sets\n",
    "X_train = X_train.reshape((-1, seq_length, 1))\n",
    "X_val = X_val.reshape((-1, seq_length, 1))                      \n",
    "y_train = y_train.reshape((-1, forecast_length, 1)) \n",
    "y_val = y_val.reshape((-1, forecast_length, 1))   \n",
    "print(X_train.shape, X_val.shape, y_train.shape, y_val.shape)                      "
   ]
  },
  {
   "cell_type": "markdown",
   "id": "1c27e38d",
   "metadata": {},
   "source": [
    "## ML"
   ]
  },
  {
   "cell_type": "code",
   "execution_count": 7,
   "id": "90cff0d6",
   "metadata": {},
   "outputs": [],
   "source": [
    "input_shape = (X_train.shape[1], X_train.shape[2])\n",
    "dropout_rate = 0.2\n",
    "batch_size = 128\n",
    "lstm_units = 128\n",
    "epochs = 1000\n",
    "\n",
    "def build_model(input_shape, lstm_units, dropout_rate):\n",
    "    input_layer = tfkl.Input(shape=input_shape)\n",
    "      \n",
    "    # Block one; bidirectional LSTMs with regularizers, BNormalization and dropout\n",
    "    x = tfkl.Bidirectional(\n",
    "        tfkl.LSTM(units=lstm_units, return_sequences=True, kernel_regularizer=tfk.regularizers.l2(0.001)))(input_layer)\n",
    "    x = tfkl.BatchNormalization()(x)\n",
    "    x = tfkl.Dropout(dropout_rate)(x)\n",
    "\n",
    "    # Block two; similar to previous but no bidirectionality or regularizer\n",
    "    x = tfkl.LSTM(units=lstm_units // 2)(x)\n",
    "    x = tfkl.BatchNormalization()(x)\n",
    "    x = tfkl.Dropout(dropout_rate)(x)\n",
    "    x = tfkl.Dense(units=forecast_length)(x)\n",
    "\n",
    "    # Compile using MSE as loss function and the Adam optimizer\n",
    "    model = tfk.Model(inputs=input_layer, outputs=x)\n",
    "    model.compile(optimizer='adam', loss='mse')\n",
    "\n",
    "    return model"
   ]
  },
  {
   "cell_type": "code",
   "execution_count": 8,
   "id": "4aa139c2",
   "metadata": {},
   "outputs": [
    {
     "name": "stdout",
     "output_type": "stream",
     "text": [
      "Epoch 1/1000\n"
     ]
    },
    {
     "name": "stderr",
     "output_type": "stream",
     "text": [
      "WARNING: All log messages before absl::InitializeLog() is called are written to STDERR\n",
      "I0000 00:00:1702974428.718579     570 device_compiler.h:186] Compiled cluster using XLA!  This line is logged at most once for the lifetime of the process.\n"
     ]
    },
    {
     "name": "stdout",
     "output_type": "stream",
     "text": [
      "26352/26352 [==============================] - 666s 25ms/step - loss: 0.0537 - val_loss: 0.0374\n",
      "Epoch 2/1000\n",
      "26352/26352 [==============================] - 626s 24ms/step - loss: 0.0432 - val_loss: 0.0361\n",
      "Epoch 3/1000\n",
      "26352/26352 [==============================] - 619s 24ms/step - loss: 0.0420 - val_loss: 0.0364\n",
      "Epoch 4/1000\n",
      "26352/26352 [==============================] - 616s 23ms/step - loss: 0.0414 - val_loss: 0.0365\n",
      "Epoch 5/1000\n",
      "26352/26352 [==============================] - 611s 23ms/step - loss: 0.0442 - val_loss: 0.0383\n",
      "Epoch 6/1000\n",
      "26352/26352 [==============================] - 614s 23ms/step - loss: 0.0448 - val_loss: 0.0367\n",
      "Epoch 7/1000\n",
      "26352/26352 [==============================] - 607s 23ms/step - loss: 0.0420 - val_loss: 0.0431\n",
      "Epoch 8/1000\n",
      "26352/26352 [==============================] - 608s 23ms/step - loss: 0.0409 - val_loss: 0.0354\n",
      "Epoch 9/1000\n",
      "26352/26352 [==============================] - 609s 23ms/step - loss: 0.0405 - val_loss: 0.0337\n",
      "Epoch 10/1000\n",
      "26352/26352 [==============================] - 608s 23ms/step - loss: 0.0402 - val_loss: 0.0336\n",
      "Epoch 11/1000\n",
      "26352/26352 [==============================] - 607s 23ms/step - loss: 0.0399 - val_loss: 0.0334\n",
      "Epoch 12/1000\n",
      "26352/26352 [==============================] - 602s 23ms/step - loss: 0.0397 - val_loss: 0.0339\n",
      "Epoch 13/1000\n",
      "26352/26352 [==============================] - 600s 23ms/step - loss: 0.0432 - val_loss: 0.0397\n",
      "Epoch 14/1000\n",
      "26352/26352 [==============================] - 596s 23ms/step - loss: 0.0434 - val_loss: 0.0360\n",
      "Epoch 15/1000\n",
      "26352/26352 [==============================] - 595s 23ms/step - loss: 0.0414 - val_loss: 0.0350\n",
      "Epoch 16/1000\n",
      "26352/26352 [==============================] - 599s 23ms/step - loss: 0.0406 - val_loss: 0.0353\n",
      "Epoch 17/1000\n",
      "26352/26352 [==============================] - 598s 23ms/step - loss: 0.0400 - val_loss: 0.0341\n",
      "Epoch 18/1000\n",
      "26352/26352 [==============================] - 592s 22ms/step - loss: 0.0396 - val_loss: 0.0330\n",
      "Epoch 19/1000\n",
      "26352/26352 [==============================] - 595s 23ms/step - loss: 0.0395 - val_loss: 0.0329\n",
      "Epoch 20/1000\n",
      "26352/26352 [==============================] - 601s 23ms/step - loss: 0.0391 - val_loss: 0.0340\n",
      "Epoch 21/1000\n",
      "26352/26352 [==============================] - 593s 22ms/step - loss: 0.0388 - val_loss: 0.0333\n",
      "Epoch 22/1000\n",
      "26352/26352 [==============================] - 591s 22ms/step - loss: 0.0386 - val_loss: 0.0354\n",
      "Epoch 23/1000\n",
      "26352/26352 [==============================] - 593s 23ms/step - loss: 0.0384 - val_loss: 0.0331\n",
      "Epoch 24/1000\n",
      "26352/26352 [==============================] - 594s 23ms/step - loss: 0.0381 - val_loss: 0.0323\n",
      "Epoch 25/1000\n",
      "26352/26352 [==============================] - 596s 23ms/step - loss: 0.0387 - val_loss: 0.0371\n",
      "Epoch 26/1000\n",
      "26352/26352 [==============================] - 595s 23ms/step - loss: 0.0428 - val_loss: 0.0372\n",
      "Epoch 27/1000\n",
      "26352/26352 [==============================] - 592s 22ms/step - loss: 0.0478 - val_loss: 0.0459\n",
      "Epoch 28/1000\n",
      "26352/26352 [==============================] - 590s 22ms/step - loss: 0.0538 - val_loss: 0.0534\n",
      "Epoch 29/1000\n",
      "26352/26352 [==============================] - 589s 22ms/step - loss: 0.0625 - val_loss: 0.0614\n",
      "Epoch 30/1000\n",
      "26352/26352 [==============================] - 589s 22ms/step - loss: 0.0738 - val_loss: 0.0744\n",
      "Epoch 31/1000\n",
      "26352/26352 [==============================] - 591s 22ms/step - loss: 0.0781 - val_loss: 0.0723\n",
      "Epoch 32/1000\n",
      "26352/26352 [==============================] - 592s 22ms/step - loss: 0.0827 - val_loss: 0.0807\n",
      "Epoch 33/1000\n",
      "26352/26352 [==============================] - 589s 22ms/step - loss: 0.0883 - val_loss: 0.0894\n",
      "Epoch 34/1000\n",
      "26352/26352 [==============================] - 587s 22ms/step - loss: 0.1000 - val_loss: 0.0911\n"
     ]
    }
   ],
   "source": [
    "# Stop training when validation loss stops improving, maintain best weights\n",
    "early_stopping = tf.keras.callbacks.EarlyStopping(\n",
    "    monitor='val_loss',\n",
    "    patience=10,         # how many epochs to check for improvement before stopping\n",
    "    restore_best_weights=True,\n",
    ")\n",
    "    \n",
    "# Build and train model\n",
    "model = build_model(input_shape, lstm_units, dropout_rate)\n",
    "history = model.fit(X_train,\n",
    "                    y_train, \n",
    "                    batch_size=batch_size, \n",
    "                    epochs=epochs, \n",
    "                    validation_data=(X_val, y_val),\n",
    "                    callbacks=early_stopping,\n",
    "                    verbose=1)"
   ]
  },
  {
   "cell_type": "code",
   "execution_count": 9,
   "id": "0ed92b56",
   "metadata": {},
   "outputs": [
    {
     "name": "stdout",
     "output_type": "stream",
     "text": [
      "26480/26480 [==============================] - 185s 7ms/step\n",
      "Val loss (MSE): 0.005323225166648626\n",
      "Val loss (MSE) 1 step forward: 0.002490357495844364\n",
      "Val loss (MSE) 2 step forward: 0.003336182562634349\n",
      "Val loss (MSE) 3 step forward: 0.004094033967703581\n",
      "Val loss (MSE) 4 step forward: 0.00481325201690197\n",
      "Val loss (MSE) 5 step forward: 0.005442761350423098\n",
      "Val loss (MSE) 6 step forward: 0.006037930026650429\n",
      "Val loss (MSE) 7 step forward: 0.006666239351034164\n",
      "Val loss (MSE) 8 step forward: 0.007232982665300369\n",
      "Val loss (MSE) 9 step forward: 0.007795285899192095\n"
     ]
    }
   ],
   "source": [
    "# Evaluate on original validation data \n",
    "y_val_org = rscaler_y.inverse_transform(y_val.reshape((-1, forecast_length)))\n",
    "y_pred = model.predict(X_val)\n",
    "y_pred_iscaled = rscaler_y.inverse_transform(y_pred.reshape((-1, forecast_length)))\n",
    "mse = tfk.losses.MeanSquaredError()\n",
    "print(f\"Val loss (MSE): {mse(y_val_org, y_pred_iscaled).numpy()}\")\n",
    "\n",
    "# Val loss for each prediction step\n",
    "for t in range(forecast_length):\n",
    "    mse = tfk.metrics.MeanSquaredError()\n",
    "    mse.update_state(y_val_org[:, t], y_pred_iscaled[:, t])\n",
    "    print(f'Val loss (MSE) {t+1} step forward: {mse.result().numpy()}')"
   ]
  },
  {
   "cell_type": "code",
   "execution_count": 10,
   "id": "aa188880",
   "metadata": {},
   "outputs": [
    {
     "name": "stdout",
     "output_type": "stream",
     "text": [
      "INFO:tensorflow:Assets written to: LSTM_v4/model/assets\n"
     ]
    },
    {
     "name": "stderr",
     "output_type": "stream",
     "text": [
      "INFO:tensorflow:Assets written to: LSTM_v4/model/assets\n"
     ]
    }
   ],
   "source": [
    "# save model\n",
    "model.save(os.path.join(model_path, 'model'))"
   ]
  },
  {
   "cell_type": "code",
   "execution_count": null,
   "id": "5d01b4cf",
   "metadata": {},
   "outputs": [],
   "source": []
  }
 ],
 "metadata": {
  "kernelspec": {
   "display_name": "Python 3 (ipykernel)",
   "language": "python",
   "name": "python3"
  },
  "language_info": {
   "codemirror_mode": {
    "name": "ipython",
    "version": 3
   },
   "file_extension": ".py",
   "mimetype": "text/x-python",
   "name": "python",
   "nbconvert_exporter": "python",
   "pygments_lexer": "ipython3",
   "version": "3.11.5"
  }
 },
 "nbformat": 4,
 "nbformat_minor": 5
}
