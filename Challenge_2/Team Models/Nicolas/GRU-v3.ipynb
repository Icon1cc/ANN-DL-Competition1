{
 "cells": [
  {
   "cell_type": "markdown",
   "id": "b72a895f",
   "metadata": {},
   "source": [
    "### Imports"
   ]
  },
  {
   "cell_type": "code",
   "execution_count": 1,
   "id": "65a98672",
   "metadata": {},
   "outputs": [
    {
     "name": "stderr",
     "output_type": "stream",
     "text": [
      "2023-12-13 01:50:10.020950: E external/local_xla/xla/stream_executor/cuda/cuda_dnn.cc:9261] Unable to register cuDNN factory: Attempting to register factory for plugin cuDNN when one has already been registered\n",
      "2023-12-13 01:50:10.021016: E external/local_xla/xla/stream_executor/cuda/cuda_fft.cc:607] Unable to register cuFFT factory: Attempting to register factory for plugin cuFFT when one has already been registered\n",
      "2023-12-13 01:50:10.023198: E external/local_xla/xla/stream_executor/cuda/cuda_blas.cc:1515] Unable to register cuBLAS factory: Attempting to register factory for plugin cuBLAS when one has already been registered\n",
      "2023-12-13 01:50:10.040315: I tensorflow/core/platform/cpu_feature_guard.cc:182] This TensorFlow binary is optimized to use available CPU instructions in performance-critical operations.\n",
      "To enable the following instructions: AVX2 FMA, in other operations, rebuild TensorFlow with the appropriate compiler flags.\n",
      "2023-12-13 01:50:10.921772: W tensorflow/compiler/tf2tensorrt/utils/py_utils.cc:38] TF-TRT Warning: Could not find TensorRT\n"
     ]
    },
    {
     "name": "stdout",
     "output_type": "stream",
     "text": [
      "<module 'tensorflow._api.v2.version' from '/home/zyzz/anaconda3/lib/python3.11/site-packages/tensorflow/_api/v2/version/__init__.py'>\n",
      "[PhysicalDevice(name='/physical_device:GPU:0', device_type='GPU')]\n"
     ]
    },
    {
     "name": "stderr",
     "output_type": "stream",
     "text": [
      "2023-12-13 01:50:12.667107: I external/local_xla/xla/stream_executor/cuda/cuda_executor.cc:887] could not open file to read NUMA node: /sys/bus/pci/devices/0000:01:00.0/numa_node\n",
      "Your kernel may have been built without NUMA support.\n",
      "2023-12-13 01:50:12.779553: I external/local_xla/xla/stream_executor/cuda/cuda_executor.cc:887] could not open file to read NUMA node: /sys/bus/pci/devices/0000:01:00.0/numa_node\n",
      "Your kernel may have been built without NUMA support.\n",
      "2023-12-13 01:50:12.779605: I external/local_xla/xla/stream_executor/cuda/cuda_executor.cc:887] could not open file to read NUMA node: /sys/bus/pci/devices/0000:01:00.0/numa_node\n",
      "Your kernel may have been built without NUMA support.\n"
     ]
    }
   ],
   "source": [
    "import os\n",
    "import numpy as np\n",
    "import random\n",
    "import matplotlib.pyplot as plt\n",
    "\n",
    "import warnings\n",
    "warnings.filterwarnings('ignore') # hopefully nothing explodes\n",
    "\n",
    "import tensorflow as tf\n",
    "from tensorflow import keras as tfk\n",
    "from tensorflow.keras import layers as tfkl\n",
    "print(tf.version)\n",
    "print(tf.config.list_physical_devices('GPU'))"
   ]
  },
  {
   "cell_type": "code",
   "execution_count": 2,
   "id": "7890573b",
   "metadata": {},
   "outputs": [],
   "source": [
    "# For reproducible results\n",
    "os.environ['PYTHONHASHSEED']=str(42)\n",
    "random.seed(42)\n",
    "np.random.seed(42)\n",
    "tf.random.set_seed(42)  "
   ]
  },
  {
   "cell_type": "markdown",
   "id": "a958bf2e",
   "metadata": {},
   "source": [
    "## Data"
   ]
  },
  {
   "cell_type": "code",
   "execution_count": 3,
   "id": "19828e38",
   "metadata": {},
   "outputs": [],
   "source": [
    "# Constants\n",
    "val_size = 0.2\n",
    "data_path = 'training_dataset'\n",
    "seq_length = 26      # predictions based on previous seq_length data entries\n",
    "forecast_length = 9  # predicting forecast_length time steps into the future\n",
    "sample_length = seq_length + forecast_length"
   ]
  },
  {
   "cell_type": "code",
   "execution_count": 4,
   "id": "7d947d0e",
   "metadata": {
    "scrolled": true
   },
   "outputs": [
    {
     "name": "stdout",
     "output_type": "stream",
     "text": [
      "(48000, -) (48000, 2)\n"
     ]
    }
   ],
   "source": [
    "# Read data (ignore categories)\n",
    "training_data = np.load(os.path.join(data_path, 'training_data.npy'))\n",
    "valid_periods = np.load(os.path.join(data_path, 'valid_periods.npy'))\n",
    "\n",
    "# Filter out unvalid data\n",
    "data = []\n",
    "for i, row in enumerate(training_data):\n",
    "    data.append(row[valid_periods[i][0]:valid_periods[i][1]])\n",
    "\n",
    "print(f\"({len(data)}, -)\", valid_periods.shape)"
   ]
  },
  {
   "cell_type": "code",
   "execution_count": 5,
   "id": "3207e6e7",
   "metadata": {
    "scrolled": false
   },
   "outputs": [
    {
     "name": "stdout",
     "output_type": "stream",
     "text": [
      "(6307286, 26, 1) (1579211, 26, 1) (6307286, 9, 1) (1579211, 9, 1)\n"
     ]
    }
   ],
   "source": [
    "# Convert time series to {x: sequences of length seq_length, y: values to be predicted from previous sequence}\n",
    "def to_sequences(time_series):\n",
    "    \n",
    "    x = []\n",
    "    y = []\n",
    "    \n",
    "    for i in range(time_series.shape[0]-seq_length-forecast_length+1):\n",
    "        x.append(time_series[i:i+seq_length])\n",
    "        y.append(time_series[i+seq_length:i+seq_length+forecast_length])  \n",
    "    \n",
    "    x = np.array(x)\n",
    "    y = np.array(y)\n",
    "    \n",
    "    return {'x': x.reshape((x.shape[0], x.shape[1], -1)), 'y': y.reshape((y.shape[0], y.shape[1], -1))}\n",
    "\n",
    "# Shuffle data\n",
    "np.random.shuffle(data)\n",
    " \n",
    "# Build sequences from the non-correlated time series, and append them to corresponding data set\n",
    "# Note: there is no overlap between train and validation; each processed time series is used in train xor val\n",
    "X_train, X_val = [], []\n",
    "y_train, y_val = [], []\n",
    "split_index = int((1-val_size)*len(data))\n",
    "for i, time_series in enumerate(data): \n",
    "    if (len(time_series) >= sample_length): # assert we can draw at least one sample from the time_series\n",
    "        sequences = to_sequences(time_series)\n",
    "        if(i < split_index):\n",
    "            X_train.append(sequences['x']) \n",
    "            y_train.append(sequences['y'])   \n",
    "        else:\n",
    "            X_val.append(sequences['x']) \n",
    "            y_val.append(sequences['y'])  \n",
    "\n",
    "# Convert lists to nparrays \n",
    "X_train = np.concatenate(X_train, axis=0)\n",
    "X_val = np.concatenate(X_val, axis=0)\n",
    "y_train = np.concatenate(y_train, axis=0)\n",
    "y_val = np.concatenate(y_val, axis=0)\n",
    "print(X_train.shape, X_val.shape, y_train.shape, y_val.shape)"
   ]
  },
  {
   "cell_type": "markdown",
   "id": "1c27e38d",
   "metadata": {},
   "source": [
    "## ML"
   ]
  },
  {
   "cell_type": "code",
   "execution_count": 6,
   "id": "5b65888f",
   "metadata": {
    "scrolled": true
   },
   "outputs": [
    {
     "name": "stderr",
     "output_type": "stream",
     "text": [
      "2023-12-13 01:50:25.259386: I external/local_xla/xla/stream_executor/cuda/cuda_executor.cc:887] could not open file to read NUMA node: /sys/bus/pci/devices/0000:01:00.0/numa_node\n",
      "Your kernel may have been built without NUMA support.\n",
      "2023-12-13 01:50:25.259509: I external/local_xla/xla/stream_executor/cuda/cuda_executor.cc:887] could not open file to read NUMA node: /sys/bus/pci/devices/0000:01:00.0/numa_node\n",
      "Your kernel may have been built without NUMA support.\n",
      "2023-12-13 01:50:25.259543: I external/local_xla/xla/stream_executor/cuda/cuda_executor.cc:887] could not open file to read NUMA node: /sys/bus/pci/devices/0000:01:00.0/numa_node\n",
      "Your kernel may have been built without NUMA support.\n",
      "2023-12-13 01:50:25.449849: I external/local_xla/xla/stream_executor/cuda/cuda_executor.cc:887] could not open file to read NUMA node: /sys/bus/pci/devices/0000:01:00.0/numa_node\n",
      "Your kernel may have been built without NUMA support.\n",
      "2023-12-13 01:50:25.449987: I external/local_xla/xla/stream_executor/cuda/cuda_executor.cc:887] could not open file to read NUMA node: /sys/bus/pci/devices/0000:01:00.0/numa_node\n",
      "Your kernel may have been built without NUMA support.\n",
      "2023-12-13 01:50:25.449998: I tensorflow/core/common_runtime/gpu/gpu_device.cc:2022] Could not identify NUMA node of platform GPU id 0, defaulting to 0.  Your kernel may not have been built with NUMA support.\n",
      "2023-12-13 01:50:25.450042: I external/local_xla/xla/stream_executor/cuda/cuda_executor.cc:887] could not open file to read NUMA node: /sys/bus/pci/devices/0000:01:00.0/numa_node\n",
      "Your kernel may have been built without NUMA support.\n",
      "2023-12-13 01:50:25.450060: I tensorflow/core/common_runtime/gpu/gpu_device.cc:1929] Created device /job:localhost/replica:0/task:0/device:GPU:0 with 9571 MB memory:  -> device: 0, name: NVIDIA GeForce RTX 4070, pci bus id: 0000:01:00.0, compute capability: 8.9\n",
      "2023-12-13 01:50:25.787456: I external/local_tsl/tsl/platform/default/subprocess.cc:304] Start cannot spawn child process: No such file or directory\n"
     ]
    },
    {
     "name": "stdout",
     "output_type": "stream",
     "text": [
      "Epoch 1/1000\n"
     ]
    },
    {
     "name": "stderr",
     "output_type": "stream",
     "text": [
      "2023-12-13 01:50:29.911553: I external/local_xla/xla/stream_executor/cuda/cuda_dnn.cc:454] Loaded cuDNN version 8904\n",
      "2023-12-13 01:50:30.862084: I external/local_xla/xla/service/service.cc:168] XLA service 0x7f40750d2090 initialized for platform CUDA (this does not guarantee that XLA will be used). Devices:\n",
      "2023-12-13 01:50:30.862122: I external/local_xla/xla/service/service.cc:176]   StreamExecutor device (0): NVIDIA GeForce RTX 4070, Compute Capability 8.9\n",
      "2023-12-13 01:50:30.868063: I tensorflow/compiler/mlir/tensorflow/utils/dump_mlir_util.cc:269] disabling MLIR crash reproducer, set env var `MLIR_CRASH_REPRODUCER_DIRECTORY` to enable.\n",
      "WARNING: All log messages before absl::InitializeLog() is called are written to STDERR\n",
      "I0000 00:00:1702428630.944052   67791 device_compiler.h:186] Compiled cluster using XLA!  This line is logged at most once for the lifetime of the process.\n"
     ]
    },
    {
     "name": "stdout",
     "output_type": "stream",
     "text": [
      "49276/49276 [==============================] - 291s 6ms/step - loss: 0.0091 - val_loss: 0.0080\n",
      "Epoch 2/1000\n",
      "49276/49276 [==============================] - 290s 6ms/step - loss: 0.0083 - val_loss: 0.0078\n",
      "Epoch 3/1000\n",
      "49276/49276 [==============================] - 285s 6ms/step - loss: 0.0081 - val_loss: 0.0077\n",
      "Epoch 4/1000\n",
      "49276/49276 [==============================] - 288s 6ms/step - loss: 0.0080 - val_loss: 0.0076\n",
      "Epoch 5/1000\n",
      "49276/49276 [==============================] - 282s 6ms/step - loss: 0.0080 - val_loss: 0.0076\n",
      "Epoch 6/1000\n",
      "49276/49276 [==============================] - 277s 6ms/step - loss: 0.0079 - val_loss: 0.0076\n",
      "Epoch 7/1000\n",
      "49276/49276 [==============================] - 276s 6ms/step - loss: 0.0079 - val_loss: 0.0075\n",
      "Epoch 8/1000\n",
      "49276/49276 [==============================] - 277s 6ms/step - loss: 0.0079 - val_loss: 0.0075\n",
      "Epoch 9/1000\n",
      "49276/49276 [==============================] - 275s 6ms/step - loss: 0.0078 - val_loss: 0.0075\n",
      "Epoch 10/1000\n",
      "49276/49276 [==============================] - 273s 6ms/step - loss: 0.0078 - val_loss: 0.0075\n",
      "Epoch 11/1000\n",
      "49276/49276 [==============================] - 276s 6ms/step - loss: 0.0078 - val_loss: 0.0075\n",
      "Epoch 12/1000\n",
      "49276/49276 [==============================] - 275s 6ms/step - loss: 0.0078 - val_loss: 0.0075\n",
      "Epoch 13/1000\n",
      "49276/49276 [==============================] - 275s 6ms/step - loss: 0.0078 - val_loss: 0.0075\n",
      "Epoch 14/1000\n",
      "49276/49276 [==============================] - 277s 6ms/step - loss: 0.0078 - val_loss: 0.0075\n",
      "Epoch 15/1000\n",
      "49276/49276 [==============================] - 278s 6ms/step - loss: 0.0077 - val_loss: 0.0075\n",
      "Epoch 16/1000\n",
      "49276/49276 [==============================] - 275s 6ms/step - loss: 0.0077 - val_loss: 0.0074\n",
      "Epoch 17/1000\n",
      "49276/49276 [==============================] - 276s 6ms/step - loss: 0.0077 - val_loss: 0.0075\n",
      "Epoch 18/1000\n",
      "49276/49276 [==============================] - 276s 6ms/step - loss: 0.0077 - val_loss: 0.0075\n",
      "Epoch 19/1000\n",
      "49276/49276 [==============================] - 274s 6ms/step - loss: 0.0077 - val_loss: 0.0075\n",
      "Epoch 20/1000\n",
      "49276/49276 [==============================] - 273s 6ms/step - loss: 0.0077 - val_loss: 0.0075\n",
      "Epoch 21/1000\n",
      "49276/49276 [==============================] - 277s 6ms/step - loss: 0.0077 - val_loss: 0.0075\n",
      "Epoch 22/1000\n",
      "49276/49276 [==============================] - 276s 6ms/step - loss: 0.0077 - val_loss: 0.0075\n",
      "Epoch 23/1000\n",
      "49276/49276 [==============================] - 275s 6ms/step - loss: 0.0077 - val_loss: 0.0074\n",
      "Epoch 24/1000\n",
      "49276/49276 [==============================] - 276s 6ms/step - loss: 0.0077 - val_loss: 0.0074\n",
      "Epoch 25/1000\n",
      "49276/49276 [==============================] - 275s 6ms/step - loss: 0.0077 - val_loss: 0.0075\n",
      "Epoch 26/1000\n",
      "49276/49276 [==============================] - 274s 6ms/step - loss: 0.0077 - val_loss: 0.0075\n",
      "Val loss (MSE): 0.0074338107369840145\n"
     ]
    }
   ],
   "source": [
    "input_size = (X_train.shape[1], X_train.shape[2])\n",
    "batch_size = 128\n",
    "epochs = 1000\n",
    "dout = 0.15\n",
    "\n",
    "model = tf.keras.models.Sequential([\n",
    "    tf.keras.layers.GRU(96, input_shape=input_size),\n",
    "    tf.keras.layers.Dropout(rate=dout),      # prevent overfitting\n",
    "    tf.keras.layers.Dense(forecast_length)   # output is next forecast_length values\n",
    "])\n",
    "\n",
    "# Evaluate using MSE as loss function and the adam optimizer\n",
    "model.compile(optimizer='adam', loss='mse')\n",
    "\n",
    "# Stop training when validation loss stops improving, maintain best weights\n",
    "callback = tf.keras.callbacks.EarlyStopping(\n",
    "    monitor='val_loss',\n",
    "    patience=10,         # how many epochs to check for improvement before stopping\n",
    "    restore_best_weights=True,\n",
    ")\n",
    "\n",
    "history = model.fit(X_train,\n",
    "                    y_train, \n",
    "                    batch_size=batch_size, \n",
    "                    epochs=epochs, \n",
    "                    validation_data=(X_val, y_val),\n",
    "                    callbacks=callback,\n",
    "                    verbose=1)\n",
    "\n",
    "# Evaluate on validation data\n",
    "val_result = model.evaluate(X_val, y_val, verbose=0)\n",
    "print(f\"Val loss (MSE): {val_result}\")"
   ]
  },
  {
   "cell_type": "code",
   "execution_count": 7,
   "id": "0ed92b56",
   "metadata": {},
   "outputs": [
    {
     "name": "stdout",
     "output_type": "stream",
     "text": [
      "49351/49351 [==============================] - 83s 2ms/step\n",
      "Val loss (MSE) 1h forward: 0.0035941225942224264\n",
      "Val loss (MSE) 2h forward: 0.004795367829501629\n",
      "Val loss (MSE) 3h forward: 0.005801919382065535\n",
      "Val loss (MSE) 4h forward: 0.00680383900180459\n",
      "Val loss (MSE) 5h forward: 0.007624762132763863\n",
      "Val loss (MSE) 6h forward: 0.008407504297792912\n",
      "Val loss (MSE) 7h forward: 0.00920922216027975\n",
      "Val loss (MSE) 8h forward: 0.009970426559448242\n",
      "Val loss (MSE) 9h forward: 0.010697007179260254\n"
     ]
    }
   ],
   "source": [
    "# Val loss for each prediction step\n",
    "y_pred = model.predict(X_val)\n",
    "for t in range(forecast_length):\n",
    "    m = tf.keras.metrics.MeanSquaredError()\n",
    "    m.update_state(y_val[:, t], y_pred[:, t])\n",
    "    print(f'Val loss (MSE) {t+1}h forward: {m.result().numpy()}')"
   ]
  },
  {
   "cell_type": "code",
   "execution_count": 8,
   "id": "aa188880",
   "metadata": {},
   "outputs": [
    {
     "name": "stdout",
     "output_type": "stream",
     "text": [
      "INFO:tensorflow:Assets written to: GRU_v3/assets\n"
     ]
    },
    {
     "name": "stderr",
     "output_type": "stream",
     "text": [
      "INFO:tensorflow:Assets written to: GRU_v3/assets\n"
     ]
    }
   ],
   "source": [
    "# save model\n",
    "model.save('GRU_v3')"
   ]
  },
  {
   "cell_type": "code",
   "execution_count": null,
   "id": "5d01b4cf",
   "metadata": {},
   "outputs": [],
   "source": []
  }
 ],
 "metadata": {
  "kernelspec": {
   "display_name": "Python 3 (ipykernel)",
   "language": "python",
   "name": "python3"
  },
  "language_info": {
   "codemirror_mode": {
    "name": "ipython",
    "version": 3
   },
   "file_extension": ".py",
   "mimetype": "text/x-python",
   "name": "python",
   "nbconvert_exporter": "python",
   "pygments_lexer": "ipython3",
   "version": "3.11.5"
  }
 },
 "nbformat": 4,
 "nbformat_minor": 5
}
