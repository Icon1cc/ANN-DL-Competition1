{
 "cells": [
  {
   "cell_type": "code",
   "execution_count": null,
   "metadata": {},
   "outputs": [],
   "source": [
    "import numpy as np\n",
    "import os\n",
    "\n",
    "def load_npy_files(folder_path):\"/Users/rishabhtiwari/Desktop/training_dataset/\"\n",
    "    # Dictionary to hold data from npy files\n",
    "    data = {}\n",
    "\n",
    "    # List all files in the directory\n",
    "    for file_name in os.listdir(folder_path):\n",
    "        if file_name.endswith('.npy'):\n",
    "            file_path = os.path.join(folder_path, file_name)\n",
    "            # Load the numpy array from the npy file\n",
    "            data[file_name] = np.load(file_path)\n",
    "\n",
    "    return data\n",
    "\n",
    "def explore_data(data):\n",
    "    for file_name, array in data.items():\n",
    "        print(f\"--- {file_name} ---\")\n",
    "        print(f\"Shape: {array.shape}\")\n",
    "        print(f\"Data Type: {array.dtype}\")\n",
    "        print(f\"First 2 elements:\\n{array[:2]}\")\n",
    "        print(f\"Mean: {np.mean(array)}\")\n",
    "        print(f\"Standard Deviation: {np.std(array)}\")\n",
    "        print(\"\\n\")\n",
    "\n",
    "# Path to your dataset folder\n",
    "dataset_folder_path = 'Dataset'  # Update this path according to your directory structure\n",
    "\n",
    "# Load and explore data\n",
    "data = load_npy_files(dataset_folder_path)\n",
    "explore_data(data)\n"
   ]
  },
  {
   "cell_type": "code",
   "execution_count": null,
   "metadata": {},
   "outputs": [],
   "source": []
  }
 ],
 "metadata": {
  "kernelspec": {
   "display_name": "Python 3",
   "language": "python",
   "name": "python3"
  },
  "language_info": {
   "codemirror_mode": {
    "name": "ipython",
    "version": 3
   },
   "file_extension": ".py",
   "mimetype": "text/x-python",
   "name": "python",
   "nbconvert_exporter": "python",
   "pygments_lexer": "ipython3",
   "version": "3.11.0"
  }
 },
 "nbformat": 4,
 "nbformat_minor": 2
}
