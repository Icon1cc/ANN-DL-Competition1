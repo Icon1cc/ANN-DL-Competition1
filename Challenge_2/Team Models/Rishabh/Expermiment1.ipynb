{
 "cells": [
  {
   "cell_type": "code",
   "execution_count": null,
   "metadata": {},
   "outputs": [],
   "source": [
    "import os\n",
    "import numpy as np\n",
    "import random\n",
    "import tensorflow as tf\n",
    "from tensorflow import keras as tfk\n",
    "from tensorflow.keras import layers as tfkl\n",
    "from sklearn.preprocessing import StandardScaler\n",
    "\n",
    "# For reproducible results\n",
    "seed = 42\n",
    "os.environ['PYTHONHASHSEED'] = str(seed)\n",
    "random.seed(seed)\n",
    "np.random.seed(seed)\n",
    "tf.random.set_seed(seed)"
   ]
  },
  {
   "cell_type": "code",
   "execution_count": null,
   "metadata": {},
   "outputs": [],
   "source": [
    "# Paths to the .npy files\n",
    "categories_path = '/Users/rishabhtiwari/Desktop/training_dataset/categories.npy'\n",
    "valid_periods_path = '/Users/rishabhtiwari/Desktop/training_dataset/valid_periods.npy'\n",
    "training_data_path = '/Users/rishabhtiwari/Desktop/training_dataset/training_data.npy'\n",
    "\n",
    "# Load the data\n",
    "categories = np.load(categories_path)\n",
    "valid_periods = np.load(valid_periods_path)\n",
    "training_data = np.load(training_data_path)"
   ]
  },
  {
   "cell_type": "code",
   "execution_count": null,
   "metadata": {},
   "outputs": [],
   "source": [
    "# Constants for sequence and forecast lengths\n",
    "seq_length = 128     # predictions based on previous seq_length data entries\n",
    "forecast_length = 9  # predicting forecast_length time steps into the future\n",
    "\n",
    "# Data preprocessing\n",
    "scaler = StandardScaler()"
   ]
  },
  {
   "cell_type": "code",
   "execution_count": null,
   "metadata": {},
   "outputs": [],
   "source": [
    "# Data preprocessing\n",
    "scaler = StandardScaler()\n",
    "\n",
    "def preprocess_data(data, valid_periods, scaler):\n",
    "    preprocessed_data = []\n",
    "    for i, row in enumerate(data):\n",
    "        valid_data = row[valid_periods[i][0]:valid_periods[i][1]]\n",
    "        if valid_data.size > 0:\n",
    "            scaled_data = scaler.fit_transform(valid_data.reshape(-1, 1)).flatten()\n",
    "            preprocessed_data.append(scaled_data)\n",
    "    return preprocessed_data"
   ]
  },
  {
   "cell_type": "code",
   "execution_count": null,
   "metadata": {},
   "outputs": [],
   "source": [
    "# Convert the time series data into sequences\n",
    "def to_sequences(data):\n",
    "    X, y = [], []\n",
    "    for ts in data:\n",
    "        for i in range(len(ts) - seq_length - forecast_length + 1):\n",
    "            X.append(ts[i:(i + seq_length)])\n",
    "            y.append(ts[(i + seq_length):(i + seq_length + forecast_length)])\n",
    "    return np.array(X), np.array(y)"
   ]
  },
  {
   "cell_type": "code",
   "execution_count": null,
   "metadata": {},
   "outputs": [],
   "source": [
    "# Preprocess the data and convert to sequences\n",
    "data = preprocess_data(training_data, valid_periods, scaler)\n",
    "X, y = to_sequences(data)"
   ]
  },
  {
   "cell_type": "code",
   "execution_count": null,
   "metadata": {},
   "outputs": [],
   "source": [
    "# Shuffle and split the data into training and validation sets\n",
    "val_size = int(len(X) * 0.2)\n",
    "indices = np.arange(len(X))\n",
    "np.random.shuffle(indices)\n",
    "X_train, y_train = X[:-val_size], y[:-val_size]\n",
    "X_val, y_val = X[-val_size:], y[-val_size:]"
   ]
  },
  {
   "cell_type": "code",
   "execution_count": null,
   "metadata": {},
   "outputs": [],
   "source": [
    "# Reshape data for LSTM input\n",
    "X_train = X_train.reshape((X_train.shape[0], X_train.shape[1], 1))\n",
    "y_train = y_train.reshape((y_train.shape[0], y_train.shape[1], 1))\n",
    "X_val = X_val.reshape((X_val.shape[0], X_val.shape[1], 1))\n",
    "y_val = y_val.reshape((y_val.shape[0], y_val.shape[1], 1))"
   ]
  },
  {
   "cell_type": "code",
   "execution_count": null,
   "metadata": {},
   "outputs": [],
   "source": [
    "# Model building\n",
    "def build_model(input_shape, lstm_units, dropout_rate, forecast_length):\n",
    "    input_layer = tfkl.Input(shape=input_shape)\n",
    "    x = tfkl.Bidirectional(tfkl.LSTM(lstm_units, return_sequences=True))(input_layer)\n",
    "    x = tfkl.BatchNormalization()(x)\n",
    "    x = tfkl.Dropout(dropout_rate)(x)\n",
    "    x = tfkl.LSTM(lstm_units // 2)(x)\n",
    "    x = tfkl.BatchNormalization()(x)\n",
    "    x = tfkl.Dropout(dropout_rate)(x)\n",
    "    output_layer = tfkl.Dense(forecast_length)(x)\n",
    "\n",
    "    model = tfk.Model(inputs=input_layer, outputs=output_layer)\n",
    "    return model\n",
    "\n",
    "input_shape = (X_train.shape[1], X_train.shape[2])\n",
    "dropout_rate = 0.2\n",
    "lstm_units = 128"
   ]
  },
  {
   "cell_type": "code",
   "execution_count": null,
   "metadata": {},
   "outputs": [],
   "source": [
    "# Build the model\n",
    "model = build_model(input_shape, lstm_units, dropout_rate, forecast_length)"
   ]
  },
  {
   "cell_type": "code",
   "execution_count": null,
   "metadata": {},
   "outputs": [],
   "source": [
    "# Compile the model\n",
    "lr_schedule = tf.keras.optimizers.schedules.ExponentialDecay(\n",
    "    initial_learning_rate=1e-2,\n",
    "    decay_steps=10000,\n",
    "    decay_rate=0.9)\n",
    "optimizer = tf.keras.optimizers.Adam(learning_rate=lr_schedule)\n",
    "model.compile(optimizer=optimizer, loss='mse')"
   ]
  },
  {
   "cell_type": "code",
   "execution_count": null,
   "metadata": {},
   "outputs": [],
   "source": [
    "# Train the model\n",
    "early_stopping = tfk.callbacks.EarlyStopping(monitor='val_loss', patience=10, restore_best_weights=True)\n",
    "model.fit(\n",
    "    X_train,\n",
    "    y_train,\n",
    "    batch_size=128,\n",
    "    epochs=1000,\n",
    "    validation_data=(X_val, y_val),\n",
    "    callbacks=[early_stopping],\n",
    "    verbose=1\n",
    ")"
   ]
  },
  {
   "cell_type": "code",
   "execution_count": null,
   "metadata": {},
   "outputs": [],
   "source": []
  }
 ],
 "metadata": {
  "kernelspec": {
   "display_name": "Python 3",
   "language": "python",
   "name": "python3"
  },
  "language_info": {
   "codemirror_mode": {
    "name": "ipython",
    "version": 3
   },
   "file_extension": ".py",
   "mimetype": "text/x-python",
   "name": "python",
   "nbconvert_exporter": "python",
   "pygments_lexer": "ipython3",
   "version": "3.11.0"
  }
 },
 "nbformat": 4,
 "nbformat_minor": 2
}
